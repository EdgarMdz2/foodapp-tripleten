{
 "cells": [
  {
   "cell_type": "markdown",
   "id": "309cc69a",
   "metadata": {},
   "source": [
    "# **Sprint 11 - Proyecto**\n",
    "---"
   ]
  },
  {
   "cell_type": "markdown",
   "id": "c3ea1e2c",
   "metadata": {},
   "source": [
    "## **Descripción del proyecto**"
   ]
  },
  {
   "cell_type": "markdown",
   "id": "36f7c1db",
   "metadata": {},
   "source": [
    "**Contexto**\n",
    "\n",
    "Trabajas en una empresa emergente que vende productos alimenticios. Debes investigar el comportamiento del usuario para la aplicación de la empresa.\n",
    "\n",
    "Primero, estudia el embudo de ventas. Descubre cómo los usuarios llegan a la etapa de compra. \n",
    "- ¿Cuántos usuarios realmente llegan a esta etapa? \n",
    "- ¿Cuántos se atascan en etapas anteriores? \n",
    "- ¿Qué etapas en particular?\n",
    "\n",
    "Luego, observa los resultados de un test A/A/B (sigue leyendo para obtener más información sobre los test A/A/B). Al equipo de diseño le gustaría cambiar las fuentes de toda la aplicación, pero la gerencia teme que los usuarios piensen que el nuevo diseño es intimidante. Por ello, deciden tomar una decisión basada en los resultados de un test A/A/B.\n",
    "\n",
    "Los usuarios se dividen en tres grupos: dos grupos de control obtienen las fuentes antiguas y un grupo de prueba obtiene las nuevas. Descubre qué conjunto de fuentes produce mejores resultados.\n",
    "\n",
    "Crear dos grupos A tiene ciertas ventajas. Podemos establecer el principio de que solo confiaremos en la exactitud de nuestras pruebas cuando los dos grupos de control sean similares. Si hay diferencias significativas entre los grupos A, esto puede ayudarnos a descubrir factores que pueden estar distorsionando los resultados. La comparación de grupos de control también nos dice cuánto tiempo y datos necesitaremos cuando realicemos más tests.\n",
    "\n",
    "Utilizarás el mismo dataset para el análisis general y para el análisis A/A/B. En proyectos reales, los experimentos se llevan a cabo constantemente. El equipo de análisis estudia la calidad de una aplicación utilizando datos generales, sin prestar atención a si los usuarios participan en experimentos.\n"
   ]
  },
  {
   "cell_type": "markdown",
   "id": "d392b762",
   "metadata": {},
   "source": [
    "**Descripción de los datos**\n",
    "\n",
    "Cada entrada de registro es una acción de usuario o un evento.\n",
    "\n",
    "- `EventName`: nombre del evento.\n",
    "\n",
    "- `DeviceIDHash`: identificador de usuario unívoco.\n",
    "\n",
    "- `EventTimestamp`: hora del evento.\n",
    "\n",
    "- `ExpId`: número de experimento. 246 y 247 son los grupos de control, y 248 es el grupo de prueba.\n"
   ]
  },
  {
   "cell_type": "markdown",
   "id": "d0d42caa",
   "metadata": {},
   "source": [
    "## **Desarrollo del proyecto**\n",
    "- [Paso 1. Abrir el archivo de datos y leer la información general](#paso-1-abrir-el-archivo-de-datos-y-leer-la-informacion-general)\n",
    "- [Paso 2. Preparar los datos para el análisis](#paso-2-preparar-los-datos-para-el-analisis)\n",
    "- [Paso 3. Estudiar y comprobar los datos](#paso-3-estudiar-y-comprobar-los-datos)\n",
    "- [Paso 4. Estudiar el embudo de eventos](#paso-4-estudiar-el-embudo-de-eventos)\n",
    "- [Paso 5. Estudiar los resultados del experimento](#paso-5-estudiar-los-resultados-del-experimento)\n"
   ]
  },
  {
   "cell_type": "markdown",
   "id": "de656d59",
   "metadata": {},
   "source": [
    "### **Paso 1. Abrir el archivo de datos y leer la información general**\n",
    "---"
   ]
  },
  {
   "cell_type": "markdown",
   "id": "c80a3a7b",
   "metadata": {},
   "source": [
    "Ruta de archivo: `/datasets/logs_exp_us.csv`"
   ]
  },
  {
   "cell_type": "code",
   "execution_count": 1,
   "id": "1fbde27f",
   "metadata": {},
   "outputs": [],
   "source": [
    "# Importando librerías\n",
    "import pandas as pd\n",
    "import numpy as np\n",
    "from matplotlib import pyplot as plt\n",
    "from scipy import stats as st\n",
    "from statsmodels.stats.proportion import proportions_ztest"
   ]
  },
  {
   "cell_type": "code",
   "execution_count": 2,
   "id": "3ab4658c",
   "metadata": {},
   "outputs": [],
   "source": [
    "# Cargando archivo csv como DataFrame\n",
    "actividad = pd.read_csv('datasets/logs_exp_us.csv', sep='\\t')"
   ]
  },
  {
   "cell_type": "code",
   "execution_count": 3,
   "id": "f0925e14",
   "metadata": {},
   "outputs": [
    {
     "data": {
      "text/html": [
       "<div>\n",
       "<style scoped>\n",
       "    .dataframe tbody tr th:only-of-type {\n",
       "        vertical-align: middle;\n",
       "    }\n",
       "\n",
       "    .dataframe tbody tr th {\n",
       "        vertical-align: top;\n",
       "    }\n",
       "\n",
       "    .dataframe thead th {\n",
       "        text-align: right;\n",
       "    }\n",
       "</style>\n",
       "<table border=\"1\" class=\"dataframe\">\n",
       "  <thead>\n",
       "    <tr style=\"text-align: right;\">\n",
       "      <th></th>\n",
       "      <th>EventName</th>\n",
       "      <th>DeviceIDHash</th>\n",
       "      <th>EventTimestamp</th>\n",
       "      <th>ExpId</th>\n",
       "    </tr>\n",
       "  </thead>\n",
       "  <tbody>\n",
       "    <tr>\n",
       "      <th>0</th>\n",
       "      <td>MainScreenAppear</td>\n",
       "      <td>4575588528974610257</td>\n",
       "      <td>1564029816</td>\n",
       "      <td>246</td>\n",
       "    </tr>\n",
       "    <tr>\n",
       "      <th>1</th>\n",
       "      <td>MainScreenAppear</td>\n",
       "      <td>7416695313311560658</td>\n",
       "      <td>1564053102</td>\n",
       "      <td>246</td>\n",
       "    </tr>\n",
       "    <tr>\n",
       "      <th>2</th>\n",
       "      <td>PaymentScreenSuccessful</td>\n",
       "      <td>3518123091307005509</td>\n",
       "      <td>1564054127</td>\n",
       "      <td>248</td>\n",
       "    </tr>\n",
       "    <tr>\n",
       "      <th>3</th>\n",
       "      <td>CartScreenAppear</td>\n",
       "      <td>3518123091307005509</td>\n",
       "      <td>1564054127</td>\n",
       "      <td>248</td>\n",
       "    </tr>\n",
       "  </tbody>\n",
       "</table>\n",
       "</div>"
      ],
      "text/plain": [
       "                 EventName         DeviceIDHash  EventTimestamp  ExpId\n",
       "0         MainScreenAppear  4575588528974610257      1564029816    246\n",
       "1         MainScreenAppear  7416695313311560658      1564053102    246\n",
       "2  PaymentScreenSuccessful  3518123091307005509      1564054127    248\n",
       "3         CartScreenAppear  3518123091307005509      1564054127    248"
      ]
     },
     "metadata": {},
     "output_type": "display_data"
    }
   ],
   "source": [
    "# Exploración general de archivo\n",
    "display(actividad.head(4))"
   ]
  },
  {
   "cell_type": "markdown",
   "id": "01af4479",
   "metadata": {},
   "source": [
    "### **Paso 2. Preparar los datos para el análisis**\n",
    "---"
   ]
  },
  {
   "cell_type": "markdown",
   "id": "130d3a80",
   "metadata": {},
   "source": [
    "#### **Renombrando columnas de forma conveniente.**\n"
   ]
  },
  {
   "cell_type": "code",
   "execution_count": 4,
   "id": "b8ba87aa",
   "metadata": {},
   "outputs": [],
   "source": [
    "# Renombrando columnas\n",
    "actividad.columns = ['event_name','user_id','event_ts','group']"
   ]
  },
  {
   "cell_type": "markdown",
   "id": "0c442433",
   "metadata": {},
   "source": [
    "#### **Comprobación de los tipos de datos, valores duplicados y valores ausentes.**"
   ]
  },
  {
   "cell_type": "markdown",
   "id": "9994e1c5",
   "metadata": {},
   "source": [
    "- Valores duplicados:"
   ]
  },
  {
   "cell_type": "code",
   "execution_count": 5,
   "id": "a3fa7582",
   "metadata": {},
   "outputs": [
    {
     "name": "stdout",
     "output_type": "stream",
     "text": [
      "Número de registros duplicados: 413\n"
     ]
    }
   ],
   "source": [
    "# Contando el número de registros duplicados\n",
    "print('Número de registros duplicados:', actividad.duplicated().sum())\n"
   ]
  },
  {
   "cell_type": "code",
   "execution_count": 6,
   "id": "edd4e2bb",
   "metadata": {},
   "outputs": [
    {
     "name": "stdout",
     "output_type": "stream",
     "text": [
      "Nuevo número de registros duplicados: 0\n"
     ]
    }
   ],
   "source": [
    "# Eliminando los registros duplicados\n",
    "actividad = actividad.drop_duplicates().reset_index(drop=True)\n",
    "# Corroborando la eliminación\n",
    "print('Nuevo número de registros duplicados:', actividad.duplicated().sum())"
   ]
  },
  {
   "cell_type": "markdown",
   "id": "9018e91e",
   "metadata": {},
   "source": [
    "- Tipos de datos y valores ausentes:"
   ]
  },
  {
   "cell_type": "code",
   "execution_count": 7,
   "id": "2350eef6",
   "metadata": {},
   "outputs": [
    {
     "name": "stdout",
     "output_type": "stream",
     "text": [
      "<class 'pandas.core.frame.DataFrame'>\n",
      "RangeIndex: 243713 entries, 0 to 243712\n",
      "Data columns (total 4 columns):\n",
      " #   Column      Non-Null Count   Dtype \n",
      "---  ------      --------------   ----- \n",
      " 0   event_name  243713 non-null  object\n",
      " 1   user_id     243713 non-null  int64 \n",
      " 2   event_ts    243713 non-null  int64 \n",
      " 3   group       243713 non-null  int64 \n",
      "dtypes: int64(3), object(1)\n",
      "memory usage: 7.4+ MB\n",
      "None\n"
     ]
    }
   ],
   "source": [
    "# Comprobando los tipos de datos y valores ausentes\n",
    "print(actividad.info())"
   ]
  },
  {
   "cell_type": "markdown",
   "id": "446d7769",
   "metadata": {},
   "source": [
    "ℹ️ **No existen datos ausentes en ninguna de las columnas.** Es necesario corregir el tipo de dato de la columna 'event_ts', pasando de int64 a datetime. ℹ️"
   ]
  },
  {
   "cell_type": "code",
   "execution_count": 8,
   "id": "6e0501d8",
   "metadata": {},
   "outputs": [],
   "source": [
    "# Convirtiendo columna 'event_ts' al tipo datetime[ns]\n",
    "actividad['event_ts'] = pd.to_datetime(actividad['event_ts'], unit='s')"
   ]
  },
  {
   "cell_type": "markdown",
   "id": "8233ea25",
   "metadata": {},
   "source": [
    "- Mejorando nombres de grupos:"
   ]
  },
  {
   "cell_type": "code",
   "execution_count": 9,
   "id": "3c37614e",
   "metadata": {},
   "outputs": [],
   "source": [
    "# Reemplazado el nombre de los grupos por A1, A2 y B\n",
    "actividad['group'] = actividad['group'].replace({\n",
    "    246: \"A1\",\n",
    "    247: \"A2\",\n",
    "    248: \"B\"\n",
    "})\n"
   ]
  },
  {
   "cell_type": "code",
   "execution_count": 10,
   "id": "32cf0b1a",
   "metadata": {},
   "outputs": [
    {
     "name": "stdout",
     "output_type": "stream",
     "text": [
      "Número de usuarios en diferentes grupos: 0\n"
     ]
    }
   ],
   "source": [
    "# Verificando que cada usuario único aparezca únicamente en un grupo.\n",
    "    # Generando una lista de usuarios únicos para cada grupo\n",
    "users_A1 = actividad.query(\"group == 'A1'\")['user_id'].unique()\n",
    "users_A2 = actividad.query(\"group == 'A2'\")['user_id'].unique()\n",
    "users_B = actividad.query(\"group == 'B'\")['user_id'].unique()\n",
    "\n",
    "ids_repetidos = []\n",
    "\n",
    "for id in users_A1:\n",
    "    if id in users_A2:\n",
    "        if id not in ids_repetidos:\n",
    "            ids_repetidos.append(id)\n",
    "    elif id in users_B:\n",
    "        if id not in ids_repetidos:\n",
    "            ids_repetidos.append(id)\n",
    "\n",
    "for id in users_A2:\n",
    "    if id in users_B:\n",
    "        if id not in ids_repetidos:\n",
    "            ids_repetidos.append(id)\n",
    "\n",
    "print(f'Número de usuarios en diferentes grupos: {len(ids_repetidos)}')\n"
   ]
  },
  {
   "cell_type": "markdown",
   "id": "b450571e",
   "metadata": {},
   "source": [
    "#### **Agrega una columna de fecha y hora y una columna separada para las fechas.**"
   ]
  },
  {
   "cell_type": "code",
   "execution_count": 11,
   "id": "584f96b5",
   "metadata": {},
   "outputs": [
    {
     "data": {
      "text/html": [
       "<div>\n",
       "<style scoped>\n",
       "    .dataframe tbody tr th:only-of-type {\n",
       "        vertical-align: middle;\n",
       "    }\n",
       "\n",
       "    .dataframe tbody tr th {\n",
       "        vertical-align: top;\n",
       "    }\n",
       "\n",
       "    .dataframe thead th {\n",
       "        text-align: right;\n",
       "    }\n",
       "</style>\n",
       "<table border=\"1\" class=\"dataframe\">\n",
       "  <thead>\n",
       "    <tr style=\"text-align: right;\">\n",
       "      <th></th>\n",
       "      <th>event_name</th>\n",
       "      <th>user_id</th>\n",
       "      <th>group</th>\n",
       "      <th>event_ts</th>\n",
       "      <th>event_hour</th>\n",
       "      <th>event_date</th>\n",
       "    </tr>\n",
       "  </thead>\n",
       "  <tbody>\n",
       "    <tr>\n",
       "      <th>0</th>\n",
       "      <td>MainScreenAppear</td>\n",
       "      <td>4575588528974610257</td>\n",
       "      <td>A1</td>\n",
       "      <td>2019-07-25 04:43:36</td>\n",
       "      <td>2019-07-25 04:00:00</td>\n",
       "      <td>2019-07-25</td>\n",
       "    </tr>\n",
       "    <tr>\n",
       "      <th>1</th>\n",
       "      <td>MainScreenAppear</td>\n",
       "      <td>7416695313311560658</td>\n",
       "      <td>A1</td>\n",
       "      <td>2019-07-25 11:11:42</td>\n",
       "      <td>2019-07-25 11:00:00</td>\n",
       "      <td>2019-07-25</td>\n",
       "    </tr>\n",
       "    <tr>\n",
       "      <th>2</th>\n",
       "      <td>PaymentScreenSuccessful</td>\n",
       "      <td>3518123091307005509</td>\n",
       "      <td>B</td>\n",
       "      <td>2019-07-25 11:28:47</td>\n",
       "      <td>2019-07-25 11:00:00</td>\n",
       "      <td>2019-07-25</td>\n",
       "    </tr>\n",
       "    <tr>\n",
       "      <th>3</th>\n",
       "      <td>CartScreenAppear</td>\n",
       "      <td>3518123091307005509</td>\n",
       "      <td>B</td>\n",
       "      <td>2019-07-25 11:28:47</td>\n",
       "      <td>2019-07-25 11:00:00</td>\n",
       "      <td>2019-07-25</td>\n",
       "    </tr>\n",
       "    <tr>\n",
       "      <th>4</th>\n",
       "      <td>PaymentScreenSuccessful</td>\n",
       "      <td>6217807653094995999</td>\n",
       "      <td>B</td>\n",
       "      <td>2019-07-25 11:48:42</td>\n",
       "      <td>2019-07-25 11:00:00</td>\n",
       "      <td>2019-07-25</td>\n",
       "    </tr>\n",
       "  </tbody>\n",
       "</table>\n",
       "</div>"
      ],
      "text/plain": [
       "                event_name              user_id group            event_ts  \\\n",
       "0         MainScreenAppear  4575588528974610257    A1 2019-07-25 04:43:36   \n",
       "1         MainScreenAppear  7416695313311560658    A1 2019-07-25 11:11:42   \n",
       "2  PaymentScreenSuccessful  3518123091307005509     B 2019-07-25 11:28:47   \n",
       "3         CartScreenAppear  3518123091307005509     B 2019-07-25 11:28:47   \n",
       "4  PaymentScreenSuccessful  6217807653094995999     B 2019-07-25 11:48:42   \n",
       "\n",
       "           event_hour event_date  \n",
       "0 2019-07-25 04:00:00 2019-07-25  \n",
       "1 2019-07-25 11:00:00 2019-07-25  \n",
       "2 2019-07-25 11:00:00 2019-07-25  \n",
       "3 2019-07-25 11:00:00 2019-07-25  \n",
       "4 2019-07-25 11:00:00 2019-07-25  "
      ]
     },
     "execution_count": 11,
     "metadata": {},
     "output_type": "execute_result"
    }
   ],
   "source": [
    "# Agregando columnas\n",
    "    # Columna 'event_hour' da fecha y hora (sin minutos ni segundos) \n",
    "actividad['event_hour'] = actividad['event_ts'].dt.floor('h')\n",
    "    # Columna 'event_date' da funicamente la fecha del evento\n",
    "actividad['event_date'] = actividad['event_ts'].dt.date\n",
    "actividad['event_date'] = pd.to_datetime(actividad['event_date'])\n",
    "\n",
    "# Reordenando columnas\n",
    "actividad = actividad[['event_name', 'user_id', 'group', 'event_ts', 'event_hour', 'event_date']]\n",
    "\n",
    "# Mostrando df\n",
    "actividad.head(5)"
   ]
  },
  {
   "cell_type": "markdown",
   "id": "c0554d8f",
   "metadata": {},
   "source": [
    "### **Paso 3. Estudiar y comprobar los datos**\n",
    "---"
   ]
  },
  {
   "cell_type": "markdown",
   "id": "48330599",
   "metadata": {},
   "source": [
    "#### **¿Cuántos eventos hay en los registros?**"
   ]
  },
  {
   "cell_type": "code",
   "execution_count": 12,
   "id": "6f4535fa",
   "metadata": {},
   "outputs": [
    {
     "name": "stdout",
     "output_type": "stream",
     "text": [
      "En total se cuenta con 243713 registros de eventos ocurridos.\n",
      "*************************************************************\n",
      "Número de registros para cada evento:\n"
     ]
    },
    {
     "data": {
      "text/html": [
       "<div>\n",
       "<style scoped>\n",
       "    .dataframe tbody tr th:only-of-type {\n",
       "        vertical-align: middle;\n",
       "    }\n",
       "\n",
       "    .dataframe tbody tr th {\n",
       "        vertical-align: top;\n",
       "    }\n",
       "\n",
       "    .dataframe thead th {\n",
       "        text-align: right;\n",
       "    }\n",
       "</style>\n",
       "<table border=\"1\" class=\"dataframe\">\n",
       "  <thead>\n",
       "    <tr style=\"text-align: right;\">\n",
       "      <th></th>\n",
       "      <th>event_name</th>\n",
       "      <th>event_count</th>\n",
       "    </tr>\n",
       "  </thead>\n",
       "  <tbody>\n",
       "    <tr>\n",
       "      <th>0</th>\n",
       "      <td>CartScreenAppear</td>\n",
       "      <td>42668</td>\n",
       "    </tr>\n",
       "    <tr>\n",
       "      <th>1</th>\n",
       "      <td>MainScreenAppear</td>\n",
       "      <td>119101</td>\n",
       "    </tr>\n",
       "    <tr>\n",
       "      <th>2</th>\n",
       "      <td>OffersScreenAppear</td>\n",
       "      <td>46808</td>\n",
       "    </tr>\n",
       "    <tr>\n",
       "      <th>3</th>\n",
       "      <td>PaymentScreenSuccessful</td>\n",
       "      <td>34118</td>\n",
       "    </tr>\n",
       "    <tr>\n",
       "      <th>4</th>\n",
       "      <td>Tutorial</td>\n",
       "      <td>1018</td>\n",
       "    </tr>\n",
       "  </tbody>\n",
       "</table>\n",
       "</div>"
      ],
      "text/plain": [
       "                event_name  event_count\n",
       "0         CartScreenAppear        42668\n",
       "1         MainScreenAppear       119101\n",
       "2       OffersScreenAppear        46808\n",
       "3  PaymentScreenSuccessful        34118\n",
       "4                 Tutorial         1018"
      ]
     },
     "metadata": {},
     "output_type": "display_data"
    }
   ],
   "source": [
    "print(f'En total se cuenta con {len(actividad)} registros de eventos ocurridos.')\n",
    "print('*************************************************************')\n",
    "print('Número de registros para cada evento:')\n",
    "\n",
    "display(actividad.groupby('event_name', as_index=False).agg(event_count=('event_ts', 'count')))"
   ]
  },
  {
   "cell_type": "code",
   "execution_count": 13,
   "id": "4319d0bd",
   "metadata": {},
   "outputs": [
    {
     "data": {
      "image/png": "[encoded data removed]",
      "text/plain": [
       "<Figure size 640x480 with 1 Axes>"
      ]
     },
     "metadata": {},
     "output_type": "display_data"
    }
   ],
   "source": [
    "# Graficando número de registros para cada evento:\n",
    "plt.bar(\n",
    "    actividad.groupby('event_name', as_index=False).agg(event_count=('event_ts', 'count'))['event_name'],\n",
    "    actividad.groupby('event_name', as_index=False).agg(event_count=('event_ts', 'count'))['event_count']\n",
    ")\n",
    "\n",
    "plt.title('Registros para cada evento')\n",
    "plt.xlabel('Nombre de evento')\n",
    "plt.ylabel('Número de registros')\n",
    "plt.xticks(rotation=45)\n",
    "\n",
    "plt.show()"
   ]
  },
  {
   "cell_type": "markdown",
   "id": "6907306e",
   "metadata": {},
   "source": [
    "#### **¿Cuántos usuarios hay en los registros?**\n"
   ]
  },
  {
   "cell_type": "code",
   "execution_count": 14,
   "id": "16bcf130",
   "metadata": {},
   "outputs": [
    {
     "name": "stdout",
     "output_type": "stream",
     "text": [
      "En total se cuenta con 7551 usuarios únicos.\n",
      "Repartidos en 3 grupos (A1, A2 y B)\n",
      "********************************************\n"
     ]
    },
    {
     "data": {
      "text/html": [
       "<div>\n",
       "<style scoped>\n",
       "    .dataframe tbody tr th:only-of-type {\n",
       "        vertical-align: middle;\n",
       "    }\n",
       "\n",
       "    .dataframe tbody tr th {\n",
       "        vertical-align: top;\n",
       "    }\n",
       "\n",
       "    .dataframe thead th {\n",
       "        text-align: right;\n",
       "    }\n",
       "</style>\n",
       "<table border=\"1\" class=\"dataframe\">\n",
       "  <thead>\n",
       "    <tr style=\"text-align: right;\">\n",
       "      <th></th>\n",
       "      <th>group</th>\n",
       "      <th>no_users</th>\n",
       "    </tr>\n",
       "  </thead>\n",
       "  <tbody>\n",
       "    <tr>\n",
       "      <th>0</th>\n",
       "      <td>A1</td>\n",
       "      <td>2489</td>\n",
       "    </tr>\n",
       "    <tr>\n",
       "      <th>1</th>\n",
       "      <td>A2</td>\n",
       "      <td>2520</td>\n",
       "    </tr>\n",
       "    <tr>\n",
       "      <th>2</th>\n",
       "      <td>B</td>\n",
       "      <td>2542</td>\n",
       "    </tr>\n",
       "  </tbody>\n",
       "</table>\n",
       "</div>"
      ],
      "text/plain": [
       "  group  no_users\n",
       "0    A1      2489\n",
       "1    A2      2520\n",
       "2     B      2542"
      ]
     },
     "metadata": {},
     "output_type": "display_data"
    }
   ],
   "source": [
    "# Encontrando el numero de usuarios únicos\n",
    "print(f'''En total se cuenta con {actividad['user_id'].nunique()} usuarios únicos.\n",
    "Repartidos en 3 grupos (A1, A2 y B)''')\n",
    "print('********************************************')\n",
    "# Agrupando por grupo (A1, A2 y B) y contando el número de usuarios únicos para cada grupo\n",
    "display(actividad.groupby('group', as_index=False).agg(no_users = ('user_id','nunique')))\n"
   ]
  },
  {
   "cell_type": "markdown",
   "id": "a6d489bb",
   "metadata": {},
   "source": [
    "#### **¿Cuál es el promedio de eventos por usuario?**"
   ]
  },
  {
   "cell_type": "code",
   "execution_count": 15,
   "id": "25b9ebad",
   "metadata": {},
   "outputs": [
    {
     "data": {
      "text/html": [
       "<div>\n",
       "<style scoped>\n",
       "    .dataframe tbody tr th:only-of-type {\n",
       "        vertical-align: middle;\n",
       "    }\n",
       "\n",
       "    .dataframe tbody tr th {\n",
       "        vertical-align: top;\n",
       "    }\n",
       "\n",
       "    .dataframe thead th {\n",
       "        text-align: right;\n",
       "    }\n",
       "</style>\n",
       "<table border=\"1\" class=\"dataframe\">\n",
       "  <thead>\n",
       "    <tr style=\"text-align: right;\">\n",
       "      <th></th>\n",
       "      <th>user_id</th>\n",
       "      <th>events_count</th>\n",
       "    </tr>\n",
       "  </thead>\n",
       "  <tbody>\n",
       "    <tr>\n",
       "      <th>0</th>\n",
       "      <td>6888746892508752</td>\n",
       "      <td>1</td>\n",
       "    </tr>\n",
       "    <tr>\n",
       "      <th>1</th>\n",
       "      <td>6909561520679493</td>\n",
       "      <td>5</td>\n",
       "    </tr>\n",
       "    <tr>\n",
       "      <th>2</th>\n",
       "      <td>6922444491712477</td>\n",
       "      <td>47</td>\n",
       "    </tr>\n",
       "    <tr>\n",
       "      <th>3</th>\n",
       "      <td>7435777799948366</td>\n",
       "      <td>6</td>\n",
       "    </tr>\n",
       "    <tr>\n",
       "      <th>4</th>\n",
       "      <td>7702139951469979</td>\n",
       "      <td>137</td>\n",
       "    </tr>\n",
       "    <tr>\n",
       "      <th>5</th>\n",
       "      <td>8486814028069281</td>\n",
       "      <td>10</td>\n",
       "    </tr>\n",
       "    <tr>\n",
       "      <th>6</th>\n",
       "      <td>8740973466195562</td>\n",
       "      <td>9</td>\n",
       "    </tr>\n",
       "    <tr>\n",
       "      <th>7</th>\n",
       "      <td>9841258664663090</td>\n",
       "      <td>29</td>\n",
       "    </tr>\n",
       "    <tr>\n",
       "      <th>8</th>\n",
       "      <td>12692216027168046</td>\n",
       "      <td>10</td>\n",
       "    </tr>\n",
       "    <tr>\n",
       "      <th>9</th>\n",
       "      <td>15708180189885246</td>\n",
       "      <td>126</td>\n",
       "    </tr>\n",
       "  </tbody>\n",
       "</table>\n",
       "</div>"
      ],
      "text/plain": [
       "             user_id  events_count\n",
       "0   6888746892508752             1\n",
       "1   6909561520679493             5\n",
       "2   6922444491712477            47\n",
       "3   7435777799948366             6\n",
       "4   7702139951469979           137\n",
       "5   8486814028069281            10\n",
       "6   8740973466195562             9\n",
       "7   9841258664663090            29\n",
       "8  12692216027168046            10\n",
       "9  15708180189885246           126"
      ]
     },
     "metadata": {},
     "output_type": "display_data"
    },
    {
     "name": "stdout",
     "output_type": "stream",
     "text": [
      "El promedio general de eventos por usuario es de: 32.276\n",
      "********************************************************\n"
     ]
    }
   ],
   "source": [
    "# Agrupando por id de usuario y contando el número de eventos para cada usuario\n",
    "events_by_user = actividad.groupby('user_id', as_index=False).agg(events_count = ('event_name','count'))\n",
    "display(events_by_user.head(10))\n",
    "# Calculando el promedio de eventos por usuario\n",
    "print(f'El promedio general de eventos por usuario es de: {events_by_user['events_count'].mean():.3f}')\n",
    "print('********************************************************')"
   ]
  },
  {
   "cell_type": "code",
   "execution_count": 16,
   "id": "a67514e9",
   "metadata": {},
   "outputs": [
    {
     "name": "stdout",
     "output_type": "stream",
     "text": [
      "El promedio de eventos por usuario en el grupo A1 es de: 32.214\n",
      "El promedio de eventos por usuario en el grupo A2 es de: 30.933\n",
      "El promedio de eventos por usuario en el grupo B es de: 33.667\n",
      "****************************************************************\n"
     ]
    }
   ],
   "source": [
    "# Filtrando df events_by_user por grupo (A1, A2 y B)\n",
    "events_by_userA1 = events_by_user[events_by_user['user_id'].isin(users_A1)]\n",
    "events_by_userA2 = events_by_user[events_by_user['user_id'].isin(users_A2)]\n",
    "events_by_userB = events_by_user[events_by_user['user_id'].isin(users_B)]\n",
    "\n",
    "# Mostrando el promedio de eventos por usuario para cada uno de los grupos\n",
    "print(f'El promedio de eventos por usuario en el grupo A1 es de: {events_by_userA1['events_count'].mean():.3f}')\n",
    "print(f'El promedio de eventos por usuario en el grupo A2 es de: {events_by_userA2['events_count'].mean():.3f}')\n",
    "print(f'El promedio de eventos por usuario en el grupo B es de: {events_by_userB['events_count'].mean():.3f}')\n",
    "print('****************************************************************')\n"
   ]
  },
  {
   "cell_type": "markdown",
   "id": "afb0122c",
   "metadata": {},
   "source": [
    "#### **¿Qué periodo de tiempo cubren los datos?**\n"
   ]
  },
  {
   "cell_type": "markdown",
   "id": "55ccd449",
   "metadata": {},
   "source": [
    "Encuentra la fecha máxima y mínima. Traza un histograma por fecha y hora. ¿Puedes tener seguridad de que tienes datos igualmente completos para todo el periodo? Los eventos más antiguos podrían terminar en los registros de algunos usuarios por razones técnicas y esto podría sesgar el panorama general. Encuentra el momento en el que los datos comienzan a estar completos e ignora la sección anterior. ¿Qué periodo representan realmente los datos?"
   ]
  },
  {
   "cell_type": "code",
   "execution_count": 17,
   "id": "094fe237",
   "metadata": {},
   "outputs": [
    {
     "name": "stdout",
     "output_type": "stream",
     "text": [
      "El periodo comprende del 2019-07-25 00:00:00 al 2019-08-07 00:00:00\n"
     ]
    }
   ],
   "source": [
    "# Fecha máxima\n",
    "date_max = actividad['event_date'].max()\n",
    "# Fecha mínima\n",
    "date_min = actividad['event_date'].min()\n",
    "\n",
    "print(f'El periodo comprende del {date_min} al {date_max}')"
   ]
  },
  {
   "cell_type": "code",
   "execution_count": 18,
   "id": "c98fd245",
   "metadata": {},
   "outputs": [
    {
     "data": {
      "image/png": "[encoded data removed]",
      "text/plain": [
       "<Figure size 640x480 with 1 Axes>"
      ]
     },
     "metadata": {},
     "output_type": "display_data"
    }
   ],
   "source": [
    "# Graficando histograma\n",
    "plt.hist(\n",
    "    actividad['event_hour'],\n",
    "    bins=20\n",
    ")\n",
    "\n",
    "plt.title('Frecuencia de eventos por fecha y hora')\n",
    "#plt.xlim(date_min, date_max)\n",
    "plt.xticks(rotation=45)\n",
    "plt.xlabel('Fecha')\n",
    "plt.ylabel('Frecuencia')\n",
    "plt.grid()\n",
    "plt.show()"
   ]
  },
  {
   "cell_type": "markdown",
   "id": "3626b9ac",
   "metadata": {},
   "source": [
    "ℹ️ A partir de el histograma se concluye que **no se cuenta con datos completos para todo el periodo.** Los datos comienzan a estar completos a partir del día **1 de Agosto de 2019** ℹ️\n",
    "\n"
   ]
  },
  {
   "cell_type": "code",
   "execution_count": 19,
   "id": "43750d48",
   "metadata": {},
   "outputs": [
    {
     "data": {
      "text/html": [
       "<div>\n",
       "<style scoped>\n",
       "    .dataframe tbody tr th:only-of-type {\n",
       "        vertical-align: middle;\n",
       "    }\n",
       "\n",
       "    .dataframe tbody tr th {\n",
       "        vertical-align: top;\n",
       "    }\n",
       "\n",
       "    .dataframe thead th {\n",
       "        text-align: right;\n",
       "    }\n",
       "</style>\n",
       "<table border=\"1\" class=\"dataframe\">\n",
       "  <thead>\n",
       "    <tr style=\"text-align: right;\">\n",
       "      <th></th>\n",
       "      <th>event_name</th>\n",
       "      <th>user_id</th>\n",
       "      <th>group</th>\n",
       "      <th>event_ts</th>\n",
       "      <th>event_hour</th>\n",
       "      <th>event_date</th>\n",
       "    </tr>\n",
       "  </thead>\n",
       "  <tbody>\n",
       "    <tr>\n",
       "      <th>2826</th>\n",
       "      <td>Tutorial</td>\n",
       "      <td>3737462046622621720</td>\n",
       "      <td>A1</td>\n",
       "      <td>2019-08-01 00:07:28</td>\n",
       "      <td>2019-08-01</td>\n",
       "      <td>2019-08-01</td>\n",
       "    </tr>\n",
       "    <tr>\n",
       "      <th>2827</th>\n",
       "      <td>MainScreenAppear</td>\n",
       "      <td>3737462046622621720</td>\n",
       "      <td>A1</td>\n",
       "      <td>2019-08-01 00:08:00</td>\n",
       "      <td>2019-08-01</td>\n",
       "      <td>2019-08-01</td>\n",
       "    </tr>\n",
       "    <tr>\n",
       "      <th>2828</th>\n",
       "      <td>MainScreenAppear</td>\n",
       "      <td>3737462046622621720</td>\n",
       "      <td>A1</td>\n",
       "      <td>2019-08-01 00:08:55</td>\n",
       "      <td>2019-08-01</td>\n",
       "      <td>2019-08-01</td>\n",
       "    </tr>\n",
       "    <tr>\n",
       "      <th>2829</th>\n",
       "      <td>OffersScreenAppear</td>\n",
       "      <td>3737462046622621720</td>\n",
       "      <td>A1</td>\n",
       "      <td>2019-08-01 00:08:58</td>\n",
       "      <td>2019-08-01</td>\n",
       "      <td>2019-08-01</td>\n",
       "    </tr>\n",
       "    <tr>\n",
       "      <th>2830</th>\n",
       "      <td>MainScreenAppear</td>\n",
       "      <td>1433840883824088890</td>\n",
       "      <td>A2</td>\n",
       "      <td>2019-08-01 00:08:59</td>\n",
       "      <td>2019-08-01</td>\n",
       "      <td>2019-08-01</td>\n",
       "    </tr>\n",
       "  </tbody>\n",
       "</table>\n",
       "</div>"
      ],
      "text/plain": [
       "              event_name              user_id group            event_ts  \\\n",
       "2826            Tutorial  3737462046622621720    A1 2019-08-01 00:07:28   \n",
       "2827    MainScreenAppear  3737462046622621720    A1 2019-08-01 00:08:00   \n",
       "2828    MainScreenAppear  3737462046622621720    A1 2019-08-01 00:08:55   \n",
       "2829  OffersScreenAppear  3737462046622621720    A1 2019-08-01 00:08:58   \n",
       "2830    MainScreenAppear  1433840883824088890    A2 2019-08-01 00:08:59   \n",
       "\n",
       "     event_hour event_date  \n",
       "2826 2019-08-01 2019-08-01  \n",
       "2827 2019-08-01 2019-08-01  \n",
       "2828 2019-08-01 2019-08-01  \n",
       "2829 2019-08-01 2019-08-01  \n",
       "2830 2019-08-01 2019-08-01  "
      ]
     },
     "metadata": {},
     "output_type": "display_data"
    }
   ],
   "source": [
    "# Filtrando datos, trabajar únicamente con lo datos que vayan del 2019-08-01 al 2019-08-07\n",
    "actividad_efectiva = actividad.query('event_date >= \"2019-08-01\"')\n",
    "display(actividad_efectiva.head())"
   ]
  },
  {
   "cell_type": "markdown",
   "id": "3ee1d60c",
   "metadata": {},
   "source": [
    "#### **¿Se pierden muchos eventos y usuarios al excluir los datos más antiguos?**\n"
   ]
  },
  {
   "cell_type": "code",
   "execution_count": 20,
   "id": "ef26051e",
   "metadata": {},
   "outputs": [
    {
     "name": "stdout",
     "output_type": "stream",
     "text": [
      "Después del filtrado, en total se cuenta con 240887 registros de eventos ocurridos.\n",
      "Se perdieron en total 2826 eventos.\n",
      "*************************************************************\n"
     ]
    },
    {
     "data": {
      "text/html": [
       "<div>\n",
       "<style scoped>\n",
       "    .dataframe tbody tr th:only-of-type {\n",
       "        vertical-align: middle;\n",
       "    }\n",
       "\n",
       "    .dataframe tbody tr th {\n",
       "        vertical-align: top;\n",
       "    }\n",
       "\n",
       "    .dataframe thead th {\n",
       "        text-align: right;\n",
       "    }\n",
       "</style>\n",
       "<table border=\"1\" class=\"dataframe\">\n",
       "  <thead>\n",
       "    <tr style=\"text-align: right;\">\n",
       "      <th></th>\n",
       "      <th>event_name</th>\n",
       "      <th>event_count</th>\n",
       "      <th>event_count_filtered</th>\n",
       "      <th>events_lost</th>\n",
       "    </tr>\n",
       "  </thead>\n",
       "  <tbody>\n",
       "    <tr>\n",
       "      <th>0</th>\n",
       "      <td>CartScreenAppear</td>\n",
       "      <td>42668</td>\n",
       "      <td>42303</td>\n",
       "      <td>365</td>\n",
       "    </tr>\n",
       "    <tr>\n",
       "      <th>1</th>\n",
       "      <td>MainScreenAppear</td>\n",
       "      <td>119101</td>\n",
       "      <td>117328</td>\n",
       "      <td>1773</td>\n",
       "    </tr>\n",
       "    <tr>\n",
       "      <th>2</th>\n",
       "      <td>OffersScreenAppear</td>\n",
       "      <td>46808</td>\n",
       "      <td>46333</td>\n",
       "      <td>475</td>\n",
       "    </tr>\n",
       "    <tr>\n",
       "      <th>3</th>\n",
       "      <td>PaymentScreenSuccessful</td>\n",
       "      <td>34118</td>\n",
       "      <td>33918</td>\n",
       "      <td>200</td>\n",
       "    </tr>\n",
       "    <tr>\n",
       "      <th>4</th>\n",
       "      <td>Tutorial</td>\n",
       "      <td>1018</td>\n",
       "      <td>1005</td>\n",
       "      <td>13</td>\n",
       "    </tr>\n",
       "  </tbody>\n",
       "</table>\n",
       "</div>"
      ],
      "text/plain": [
       "                event_name  event_count  event_count_filtered  events_lost\n",
       "0         CartScreenAppear        42668                 42303          365\n",
       "1         MainScreenAppear       119101                117328         1773\n",
       "2       OffersScreenAppear        46808                 46333          475\n",
       "3  PaymentScreenSuccessful        34118                 33918          200\n",
       "4                 Tutorial         1018                  1005           13"
      ]
     },
     "metadata": {},
     "output_type": "display_data"
    }
   ],
   "source": [
    "# Creando df que compara la cuenta de eventos para cada evento antes y después del filtrado\n",
    "event_count_comparison = pd.merge(\n",
    "    actividad.groupby('event_name', as_index=False).agg(event_count=('event_ts', 'count')),\n",
    "    actividad_efectiva.groupby('event_name', as_index=False).agg(event_count = ('event_ts', 'count')),\n",
    "    on='event_name', how='left', suffixes=('', '_filtered')\n",
    ")\n",
    "# Calculando cuantos registros se perdieron para cada evento\n",
    "event_count_comparison['events_lost'] = event_count_comparison['event_count'] - event_count_comparison['event_count_filtered']\n",
    "\n",
    "print(f'Después del filtrado, en total se cuenta con {len(actividad_efectiva)} registros de eventos ocurridos.')\n",
    "print(f'Se perdieron en total {event_count_comparison['events_lost'].sum()} eventos.')\n",
    "print('*************************************************************')\n",
    "display(event_count_comparison)\n",
    "\n",
    "\n"
   ]
  },
  {
   "cell_type": "code",
   "execution_count": 21,
   "id": "36ea8552",
   "metadata": {},
   "outputs": [
    {
     "data": {
      "image/png": "[encoded data removed]",
      "text/plain": [
       "<Figure size 600x600 with 1 Axes>"
      ]
     },
     "metadata": {},
     "output_type": "display_data"
    }
   ],
   "source": [
    "# Gráfico combinado\n",
    "plt.figure(figsize=(6, 6))\n",
    "\n",
    "plt.bar(event_count_comparison['event_name'], event_count_comparison['event_count'], alpha=0.6, label='Antes del filtrado')\n",
    "plt.bar(event_count_comparison['event_name'], event_count_comparison['event_count_filtered'], alpha=0.6, label='Después del filtrado')\n",
    "\n",
    "plt.title('Comparación de registros por evento')\n",
    "plt.xlabel('Nombre de evento')\n",
    "plt.ylabel('Número de registros')\n",
    "plt.xticks(rotation=45)\n",
    "plt.legend()\n",
    "plt.tight_layout()\n",
    "plt.show()"
   ]
  },
  {
   "cell_type": "markdown",
   "id": "a58a93b8",
   "metadata": {},
   "source": [
    "ℹ️ **NO se pierde una cantidad significativa de eventos.** ℹ️"
   ]
  },
  {
   "cell_type": "code",
   "execution_count": 22,
   "id": "825a59e8",
   "metadata": {},
   "outputs": [
    {
     "name": "stdout",
     "output_type": "stream",
     "text": [
      "Después del filtrado, en total se cuenta con 7534 usuarios únicos.\n",
      "Repartidos en 3 grupos (A1, A2 y B)\n",
      "********************************************\n"
     ]
    },
    {
     "data": {
      "text/html": [
       "<div>\n",
       "<style scoped>\n",
       "    .dataframe tbody tr th:only-of-type {\n",
       "        vertical-align: middle;\n",
       "    }\n",
       "\n",
       "    .dataframe tbody tr th {\n",
       "        vertical-align: top;\n",
       "    }\n",
       "\n",
       "    .dataframe thead th {\n",
       "        text-align: right;\n",
       "    }\n",
       "</style>\n",
       "<table border=\"1\" class=\"dataframe\">\n",
       "  <thead>\n",
       "    <tr style=\"text-align: right;\">\n",
       "      <th></th>\n",
       "      <th>group</th>\n",
       "      <th>no_users</th>\n",
       "      <th>no_users_filtered</th>\n",
       "      <th>users_lost</th>\n",
       "    </tr>\n",
       "  </thead>\n",
       "  <tbody>\n",
       "    <tr>\n",
       "      <th>0</th>\n",
       "      <td>A1</td>\n",
       "      <td>2489</td>\n",
       "      <td>2484</td>\n",
       "      <td>5</td>\n",
       "    </tr>\n",
       "    <tr>\n",
       "      <th>1</th>\n",
       "      <td>A2</td>\n",
       "      <td>2520</td>\n",
       "      <td>2513</td>\n",
       "      <td>7</td>\n",
       "    </tr>\n",
       "    <tr>\n",
       "      <th>2</th>\n",
       "      <td>B</td>\n",
       "      <td>2542</td>\n",
       "      <td>2537</td>\n",
       "      <td>5</td>\n",
       "    </tr>\n",
       "  </tbody>\n",
       "</table>\n",
       "</div>"
      ],
      "text/plain": [
       "  group  no_users  no_users_filtered  users_lost\n",
       "0    A1      2489               2484           5\n",
       "1    A2      2520               2513           7\n",
       "2     B      2542               2537           5"
      ]
     },
     "metadata": {},
     "output_type": "display_data"
    }
   ],
   "source": [
    "# Encontrando el numero de usuarios únicos después del filtrado\n",
    "print(f'''Después del filtrado, en total se cuenta con {actividad_efectiva['user_id'].nunique()} usuarios únicos.\n",
    "Repartidos en 3 grupos (A1, A2 y B)''')\n",
    "print('********************************************')\n",
    "\n",
    "users_count = pd.merge(\n",
    "    actividad.groupby('group', as_index=False).agg(no_users = ('user_id','nunique')),\n",
    "    actividad_efectiva.groupby('group', as_index=False).agg(no_users = ('user_id','nunique')),\n",
    "    on='group', how='left', suffixes=('', '_filtered')\n",
    ")\n",
    "\n",
    "users_count['users_lost'] = users_count['no_users'] - users_count['no_users_filtered']\n",
    "\n",
    "display(users_count)"
   ]
  },
  {
   "cell_type": "markdown",
   "id": "0fa8dea5",
   "metadata": {},
   "source": [
    "ℹ️ **NO se pierde una cantidad significativa de usuarios.** ℹ️"
   ]
  },
  {
   "cell_type": "markdown",
   "id": "b7067ab4",
   "metadata": {},
   "source": [
    "### **Paso 4. Estudiar el embudo de eventos**\n",
    "---"
   ]
  },
  {
   "cell_type": "markdown",
   "id": "d9c12e80",
   "metadata": {},
   "source": [
    "#### **Observa qué eventos hay en los registros y su frecuencia de suceso. Ordénalos por frecuencia.**\n"
   ]
  },
  {
   "cell_type": "code",
   "execution_count": 23,
   "id": "ae974778",
   "metadata": {},
   "outputs": [
    {
     "data": {
      "text/plain": [
       "event_name\n",
       "MainScreenAppear           117328\n",
       "OffersScreenAppear          46333\n",
       "CartScreenAppear            42303\n",
       "PaymentScreenSuccessful     33918\n",
       "Tutorial                     1005\n",
       "Name: count, dtype: int64"
      ]
     },
     "execution_count": 23,
     "metadata": {},
     "output_type": "execute_result"
    }
   ],
   "source": [
    "# Calculando la frecuencia de cada evento, ordenando de mayor a menor\n",
    "actividad_efectiva['event_name'].value_counts()"
   ]
  },
  {
   "cell_type": "markdown",
   "id": "48c40458",
   "metadata": {},
   "source": [
    "#### **Encuentra la cantidad de usuarios que realizaron cada una de estas acciones.**"
   ]
  },
  {
   "cell_type": "markdown",
   "id": "88f00948",
   "metadata": {},
   "source": [
    "Ordena los eventos por el número de usuarios. Calcula la proporción de usuarios que realizaron la acción al menos una vez."
   ]
  },
  {
   "cell_type": "code",
   "execution_count": 24,
   "id": "43efd990",
   "metadata": {},
   "outputs": [
    {
     "name": "stdout",
     "output_type": "stream",
     "text": [
      "En total se cuenta con 7534 usuarios.\n"
     ]
    },
    {
     "data": {
      "text/html": [
       "<div>\n",
       "<style scoped>\n",
       "    .dataframe tbody tr th:only-of-type {\n",
       "        vertical-align: middle;\n",
       "    }\n",
       "\n",
       "    .dataframe tbody tr th {\n",
       "        vertical-align: top;\n",
       "    }\n",
       "\n",
       "    .dataframe thead th {\n",
       "        text-align: right;\n",
       "    }\n",
       "</style>\n",
       "<table border=\"1\" class=\"dataframe\">\n",
       "  <thead>\n",
       "    <tr style=\"text-align: right;\">\n",
       "      <th></th>\n",
       "      <th>event_name</th>\n",
       "      <th>event_count</th>\n",
       "      <th>unique_users</th>\n",
       "      <th>user_proportion</th>\n",
       "    </tr>\n",
       "  </thead>\n",
       "  <tbody>\n",
       "    <tr>\n",
       "      <th>1</th>\n",
       "      <td>MainScreenAppear</td>\n",
       "      <td>117328</td>\n",
       "      <td>7419</td>\n",
       "      <td>0.984736</td>\n",
       "    </tr>\n",
       "    <tr>\n",
       "      <th>2</th>\n",
       "      <td>OffersScreenAppear</td>\n",
       "      <td>46333</td>\n",
       "      <td>4593</td>\n",
       "      <td>0.609636</td>\n",
       "    </tr>\n",
       "    <tr>\n",
       "      <th>0</th>\n",
       "      <td>CartScreenAppear</td>\n",
       "      <td>42303</td>\n",
       "      <td>3734</td>\n",
       "      <td>0.495620</td>\n",
       "    </tr>\n",
       "    <tr>\n",
       "      <th>3</th>\n",
       "      <td>PaymentScreenSuccessful</td>\n",
       "      <td>33918</td>\n",
       "      <td>3539</td>\n",
       "      <td>0.469737</td>\n",
       "    </tr>\n",
       "    <tr>\n",
       "      <th>4</th>\n",
       "      <td>Tutorial</td>\n",
       "      <td>1005</td>\n",
       "      <td>840</td>\n",
       "      <td>0.111495</td>\n",
       "    </tr>\n",
       "  </tbody>\n",
       "</table>\n",
       "</div>"
      ],
      "text/plain": [
       "                event_name  event_count  unique_users  user_proportion\n",
       "1         MainScreenAppear       117328          7419         0.984736\n",
       "2       OffersScreenAppear        46333          4593         0.609636\n",
       "0         CartScreenAppear        42303          3734         0.495620\n",
       "3  PaymentScreenSuccessful        33918          3539         0.469737\n",
       "4                 Tutorial         1005           840         0.111495"
      ]
     },
     "metadata": {},
     "output_type": "display_data"
    }
   ],
   "source": [
    "# Calculando la cantidad total de usuarios únicos\n",
    "total_users = actividad_efectiva['user_id'].nunique()\n",
    "print(f'En total se cuenta con {total_users} usuarios.')\n",
    "\n",
    "# Calculando la frecuencia de cada evento y cantidad de usuarios para cada evento, ordenando de mayor a menor\n",
    "events_count = (\n",
    "    actividad_efectiva\n",
    "    .groupby('event_name', as_index=False)\n",
    "    .agg(event_count=('event_ts', 'count'), unique_users=('user_id', 'nunique'))\n",
    "    .sort_values('event_count', ascending=False)\n",
    ")\n",
    "# Calculando proporción de usuarios que realizaron la acción al menos una vez\n",
    "events_count['user_proportion'] = events_count['unique_users'] / total_users\n",
    "\n",
    "display(events_count)\n"
   ]
  },
  {
   "cell_type": "markdown",
   "id": "d717c5fa",
   "metadata": {},
   "source": [
    "#### **¿En qué orden ocurrieron las acciones? ¿Todas son parte de una sola secuencia? No es necesario tenerlas en cuenta al calcular el embudo.**\n"
   ]
  },
  {
   "cell_type": "markdown",
   "id": "34dd9f8e",
   "metadata": {},
   "source": [
    "ℹ️ Parece ser que el orden de los eventos es el siguiente: ℹ️\n",
    "\n",
    "1. MainScreenAppear (Aparición de la pantalla principal)\n",
    "2. OffersScreenAppear (Pantalla de ofertas)\n",
    "3. CartScreenAppear (Pantalla de carrito de compras)\n",
    "4.  PaymentScreenSuccessful (Pantalla de compra exitosa)\n",
    "\n",
    "Por otro lado, también se ha registrado el evento \"Tutorial\" que parece ser un evento que no forma parte de la secuencia."
   ]
  },
  {
   "cell_type": "markdown",
   "id": "510eaa98",
   "metadata": {},
   "source": [
    "#### Utiliza el embudo de eventos para encontrar la proporción de usuarios que pasan de una etapa a la siguiente. Por ejemplo, para la secuencia de eventos A → B → C, calcula la proporción de usuarios en la etapa B a la cantidad de usuarios en la etapa A y la proporción de usuarios en la etapa C a la cantidad en la etapa B.\n"
   ]
  },
  {
   "cell_type": "code",
   "execution_count": 25,
   "id": "f4965887",
   "metadata": {},
   "outputs": [
    {
     "data": {
      "text/html": [
       "<div>\n",
       "<style scoped>\n",
       "    .dataframe tbody tr th:only-of-type {\n",
       "        vertical-align: middle;\n",
       "    }\n",
       "\n",
       "    .dataframe tbody tr th {\n",
       "        vertical-align: top;\n",
       "    }\n",
       "\n",
       "    .dataframe thead th {\n",
       "        text-align: right;\n",
       "    }\n",
       "</style>\n",
       "<table border=\"1\" class=\"dataframe\">\n",
       "  <thead>\n",
       "    <tr style=\"text-align: right;\">\n",
       "      <th></th>\n",
       "      <th>event_name</th>\n",
       "      <th>sequential_users</th>\n",
       "      <th>conversion_rate</th>\n",
       "    </tr>\n",
       "  </thead>\n",
       "  <tbody>\n",
       "    <tr>\n",
       "      <th>0</th>\n",
       "      <td>MainScreenAppear</td>\n",
       "      <td>7419</td>\n",
       "      <td>1.000000</td>\n",
       "    </tr>\n",
       "    <tr>\n",
       "      <th>1</th>\n",
       "      <td>OffersScreenAppear</td>\n",
       "      <td>4201</td>\n",
       "      <td>0.566249</td>\n",
       "    </tr>\n",
       "    <tr>\n",
       "      <th>2</th>\n",
       "      <td>CartScreenAppear</td>\n",
       "      <td>1767</td>\n",
       "      <td>0.420614</td>\n",
       "    </tr>\n",
       "    <tr>\n",
       "      <th>3</th>\n",
       "      <td>PaymentScreenSuccessful</td>\n",
       "      <td>454</td>\n",
       "      <td>0.256933</td>\n",
       "    </tr>\n",
       "  </tbody>\n",
       "</table>\n",
       "</div>"
      ],
      "text/plain": [
       "                event_name  sequential_users  conversion_rate\n",
       "0         MainScreenAppear              7419         1.000000\n",
       "1       OffersScreenAppear              4201         0.566249\n",
       "2         CartScreenAppear              1767         0.420614\n",
       "3  PaymentScreenSuccessful               454         0.256933"
      ]
     },
     "metadata": {},
     "output_type": "display_data"
    }
   ],
   "source": [
    "# Creando pivot table\n",
    "actividad_pivot = actividad_efectiva.pivot_table(\n",
    "    index='user_id',\n",
    "    columns='event_name',\n",
    "    values='event_ts',\n",
    "    aggfunc='min'\n",
    ")\n",
    "    # Creando máscaras booleandas\n",
    "step_1 = ~actividad_pivot['MainScreenAppear'].isna()\n",
    "step_2 = step_1 & (actividad_pivot['OffersScreenAppear'] > actividad_pivot['MainScreenAppear'])\n",
    "step_3 = step_2 & (actividad_pivot['CartScreenAppear'] > actividad_pivot['OffersScreenAppear'])\n",
    "step_4 = step_3 & (actividad_pivot['PaymentScreenSuccessful'] > actividad_pivot['CartScreenAppear'])\n",
    "    # Filtrando tabla y obteniendo longitud (número de usuarios)\n",
    "n_main_screen = actividad_pivot[step_1].shape[0]\n",
    "n_offers_screen = actividad_pivot[step_2].shape[0]\n",
    "n_cart_screen = actividad_pivot[step_3].shape[0]\n",
    "n_payment_successful = actividad_pivot[step_4].shape[0]\n",
    "\n",
    "# Crear el DataFrame (embudo)\n",
    "events_funnel = pd.DataFrame({\n",
    "    'event_name': ['MainScreenAppear', 'OffersScreenAppear', 'CartScreenAppear', 'PaymentScreenSuccessful'],\n",
    "    'sequential_users': [n_main_screen, n_offers_screen, n_cart_screen, n_payment_successful]\n",
    "})\n",
    "# Calculando la tasa de conversión\n",
    "events_funnel['conversion_rate'] = events_funnel['sequential_users'] / events_funnel['sequential_users'].shift(1)\n",
    "events_funnel['conversion_rate'] = events_funnel['conversion_rate'].fillna(1)\n",
    "\n",
    "display(events_funnel)"
   ]
  },
  {
   "cell_type": "markdown",
   "id": "1233b0ba",
   "metadata": {},
   "source": [
    "#### **¿En qué etapa pierdes más usuarios?**\n"
   ]
  },
  {
   "cell_type": "code",
   "execution_count": 26,
   "id": "4f6ea0ce",
   "metadata": {},
   "outputs": [
    {
     "data": {
      "text/html": [
       "<div>\n",
       "<style scoped>\n",
       "    .dataframe tbody tr th:only-of-type {\n",
       "        vertical-align: middle;\n",
       "    }\n",
       "\n",
       "    .dataframe tbody tr th {\n",
       "        vertical-align: top;\n",
       "    }\n",
       "\n",
       "    .dataframe thead th {\n",
       "        text-align: right;\n",
       "    }\n",
       "</style>\n",
       "<table border=\"1\" class=\"dataframe\">\n",
       "  <thead>\n",
       "    <tr style=\"text-align: right;\">\n",
       "      <th></th>\n",
       "      <th>event_name</th>\n",
       "      <th>sequential_users</th>\n",
       "      <th>conversion_rate</th>\n",
       "      <th>users_lost</th>\n",
       "    </tr>\n",
       "  </thead>\n",
       "  <tbody>\n",
       "    <tr>\n",
       "      <th>0</th>\n",
       "      <td>MainScreenAppear</td>\n",
       "      <td>7419</td>\n",
       "      <td>1.000000</td>\n",
       "      <td>NaN</td>\n",
       "    </tr>\n",
       "    <tr>\n",
       "      <th>1</th>\n",
       "      <td>OffersScreenAppear</td>\n",
       "      <td>4201</td>\n",
       "      <td>0.566249</td>\n",
       "      <td>3218.0</td>\n",
       "    </tr>\n",
       "    <tr>\n",
       "      <th>2</th>\n",
       "      <td>CartScreenAppear</td>\n",
       "      <td>1767</td>\n",
       "      <td>0.420614</td>\n",
       "      <td>2434.0</td>\n",
       "    </tr>\n",
       "    <tr>\n",
       "      <th>3</th>\n",
       "      <td>PaymentScreenSuccessful</td>\n",
       "      <td>454</td>\n",
       "      <td>0.256933</td>\n",
       "      <td>1313.0</td>\n",
       "    </tr>\n",
       "  </tbody>\n",
       "</table>\n",
       "</div>"
      ],
      "text/plain": [
       "                event_name  sequential_users  conversion_rate  users_lost\n",
       "0         MainScreenAppear              7419         1.000000         NaN\n",
       "1       OffersScreenAppear              4201         0.566249      3218.0\n",
       "2         CartScreenAppear              1767         0.420614      2434.0\n",
       "3  PaymentScreenSuccessful               454         0.256933      1313.0"
      ]
     },
     "metadata": {},
     "output_type": "display_data"
    }
   ],
   "source": [
    "events_funnel['users_lost'] = events_funnel['sequential_users'].shift(1) - events_funnel['sequential_users']\n",
    "\n",
    "display(events_funnel)\n"
   ]
  },
  {
   "cell_type": "markdown",
   "id": "c7ae8139",
   "metadata": {},
   "source": [
    "ℹ️ La mayor caída en términos de tasa de conversión ocurre entre las etapas **CartScreenAppear y PaymentScreenSuccessful**, con solo un **25.69%** de los usuarios avanzando al pago exitoso. ℹ️ \n",
    "\n",
    "Esto sugiere un posible problema en la etapa final del embudo. \n",
    "\n",
    "ℹ️ En términos absolutos, la mayor pérdida de usuarios ocurre entre **MainScreenAppear y OffersScreenAppear**, donde se pierden 3,218 usuarios. ℹ️\n",
    "\n",
    "Sin embargo, la tasa de conversión en esta etapa es de **56.62%**, lo que indica que más de la mitad logra avanzar, aunque el número total de usuarios que abandonan sigue siendo alto. "
   ]
  },
  {
   "cell_type": "markdown",
   "id": "304a333c",
   "metadata": {},
   "source": [
    "#### **¿Qué porcentaje de usuarios hace todo el viaje desde su primer evento hasta el pago?**"
   ]
  },
  {
   "cell_type": "code",
   "execution_count": 27,
   "id": "a77ebd88",
   "metadata": {},
   "outputs": [
    {
     "data": {
      "text/html": [
       "<div>\n",
       "<style scoped>\n",
       "    .dataframe tbody tr th:only-of-type {\n",
       "        vertical-align: middle;\n",
       "    }\n",
       "\n",
       "    .dataframe tbody tr th {\n",
       "        vertical-align: top;\n",
       "    }\n",
       "\n",
       "    .dataframe thead th {\n",
       "        text-align: right;\n",
       "    }\n",
       "</style>\n",
       "<table border=\"1\" class=\"dataframe\">\n",
       "  <thead>\n",
       "    <tr style=\"text-align: right;\">\n",
       "      <th></th>\n",
       "      <th>event_name</th>\n",
       "      <th>sequential_users</th>\n",
       "      <th>conversion_rate</th>\n",
       "      <th>users_lost</th>\n",
       "      <th>conversion_from_start</th>\n",
       "    </tr>\n",
       "  </thead>\n",
       "  <tbody>\n",
       "    <tr>\n",
       "      <th>0</th>\n",
       "      <td>MainScreenAppear</td>\n",
       "      <td>7419</td>\n",
       "      <td>1.000000</td>\n",
       "      <td>NaN</td>\n",
       "      <td>1.000000</td>\n",
       "    </tr>\n",
       "    <tr>\n",
       "      <th>1</th>\n",
       "      <td>OffersScreenAppear</td>\n",
       "      <td>4201</td>\n",
       "      <td>0.566249</td>\n",
       "      <td>3218.0</td>\n",
       "      <td>0.566249</td>\n",
       "    </tr>\n",
       "    <tr>\n",
       "      <th>2</th>\n",
       "      <td>CartScreenAppear</td>\n",
       "      <td>1767</td>\n",
       "      <td>0.420614</td>\n",
       "      <td>2434.0</td>\n",
       "      <td>0.238172</td>\n",
       "    </tr>\n",
       "    <tr>\n",
       "      <th>3</th>\n",
       "      <td>PaymentScreenSuccessful</td>\n",
       "      <td>454</td>\n",
       "      <td>0.256933</td>\n",
       "      <td>1313.0</td>\n",
       "      <td>0.061194</td>\n",
       "    </tr>\n",
       "  </tbody>\n",
       "</table>\n",
       "</div>"
      ],
      "text/plain": [
       "                event_name  sequential_users  conversion_rate  users_lost  \\\n",
       "0         MainScreenAppear              7419         1.000000         NaN   \n",
       "1       OffersScreenAppear              4201         0.566249      3218.0   \n",
       "2         CartScreenAppear              1767         0.420614      2434.0   \n",
       "3  PaymentScreenSuccessful               454         0.256933      1313.0   \n",
       "\n",
       "   conversion_from_start  \n",
       "0               1.000000  \n",
       "1               0.566249  \n",
       "2               0.238172  \n",
       "3               0.061194  "
      ]
     },
     "metadata": {},
     "output_type": "display_data"
    }
   ],
   "source": [
    "events_funnel['conversion_from_start'] = events_funnel['sequential_users'] / events_funnel['sequential_users'][0]\n",
    "display(events_funnel)"
   ]
  },
  {
   "cell_type": "markdown",
   "id": "6ddc062a",
   "metadata": {},
   "source": [
    "ℹ️ **Solo el 6% de los usuarios hacen todo el viaje desde su primer evento hasta el pago** ℹ️"
   ]
  },
  {
   "cell_type": "markdown",
   "id": "02f217b2",
   "metadata": {},
   "source": [
    "### **Paso 5. Estudiar los resultados del experimento**\n",
    "---"
   ]
  },
  {
   "cell_type": "markdown",
   "id": "c5321f8d",
   "metadata": {},
   "source": [
    "#### **¿Cuántos usuarios hay en cada grupo?**\n"
   ]
  },
  {
   "cell_type": "code",
   "execution_count": 28,
   "id": "e20e7b7b",
   "metadata": {},
   "outputs": [
    {
     "data": {
      "text/html": [
       "<div>\n",
       "<style scoped>\n",
       "    .dataframe tbody tr th:only-of-type {\n",
       "        vertical-align: middle;\n",
       "    }\n",
       "\n",
       "    .dataframe tbody tr th {\n",
       "        vertical-align: top;\n",
       "    }\n",
       "\n",
       "    .dataframe thead th {\n",
       "        text-align: right;\n",
       "    }\n",
       "</style>\n",
       "<table border=\"1\" class=\"dataframe\">\n",
       "  <thead>\n",
       "    <tr style=\"text-align: right;\">\n",
       "      <th></th>\n",
       "      <th>group</th>\n",
       "      <th>user_id</th>\n",
       "    </tr>\n",
       "  </thead>\n",
       "  <tbody>\n",
       "    <tr>\n",
       "      <th>0</th>\n",
       "      <td>A1</td>\n",
       "      <td>2484</td>\n",
       "    </tr>\n",
       "    <tr>\n",
       "      <th>1</th>\n",
       "      <td>A2</td>\n",
       "      <td>2513</td>\n",
       "    </tr>\n",
       "    <tr>\n",
       "      <th>2</th>\n",
       "      <td>B</td>\n",
       "      <td>2537</td>\n",
       "    </tr>\n",
       "  </tbody>\n",
       "</table>\n",
       "</div>"
      ],
      "text/plain": [
       "  group  user_id\n",
       "0    A1     2484\n",
       "1    A2     2513\n",
       "2     B     2537"
      ]
     },
     "metadata": {},
     "output_type": "display_data"
    }
   ],
   "source": [
    "# Separando los registros por grupo\n",
    "actividad_A1 = actividad_efectiva.query(\"group == 'A1'\")\n",
    "actividad_A2 = actividad_efectiva.query(\"group == 'A2'\")\n",
    "actividad_B = actividad_efectiva.query(\"group == 'B'\")\n",
    "\n",
    "# Generando una lista de usuarios únicos para cada grupo\n",
    "users_A1 = actividad_A1['user_id'].unique()\n",
    "users_A2 = actividad_A2['user_id'].unique()\n",
    "users_B = actividad_B['user_id'].unique()\n",
    "\n",
    "# Mostrando candidad de usuarios para cada grupo\n",
    "display(actividad_efectiva.groupby('group', as_index=False).agg({'user_id':'nunique'}))"
   ]
  },
  {
   "cell_type": "markdown",
   "id": "67ed07c7",
   "metadata": {},
   "source": [
    "#### **Tenemos dos grupos de control en el test A/A, donde comprobamos nuestros mecanismos y cálculos. Observa si hay una diferencia estadísticamente significativa entre las muestras 246 y 247.**\n",
    "\n"
   ]
  },
  {
   "cell_type": "markdown",
   "id": "7d3c8451",
   "metadata": {},
   "source": [
    "#### **Selecciona el evento más popular. En cada uno de los grupos de control, encuentra la cantidad de usuarios que realizaron esta acción. Encuentra su proporción. Comprueba si la diferencia entre los grupos es estadísticamente significativa.** \n",
    "\n",
    "- **Repite el procedimiento para todos los demás eventos (ahorrarás tiempo si creas una función especial para esta prueba).**\n"
   ]
  },
  {
   "cell_type": "code",
   "execution_count": 29,
   "id": "e8d7a644",
   "metadata": {},
   "outputs": [],
   "source": [
    "# Función para crear un embudo para cada grupo\n",
    "def create_funnel(df_grupo):\n",
    "# Creando pivot table\n",
    "    pivot = df_grupo.pivot_table(\n",
    "        index='user_id',\n",
    "        columns='event_name',\n",
    "        values='event_ts',\n",
    "        aggfunc='min'\n",
    "    )\n",
    "    # Creando máscaras booleandas\n",
    "    step_1 = ~pivot['MainScreenAppear'].isna()\n",
    "    step_2 = step_1 & (pivot['OffersScreenAppear'] > pivot['MainScreenAppear'])\n",
    "    step_3 = step_2 & (pivot['CartScreenAppear'] > pivot['OffersScreenAppear'])\n",
    "    step_4 = step_3 & (pivot['PaymentScreenSuccessful'] > pivot['CartScreenAppear'])\n",
    "        # Filtrando tabla y obteniendo longitud (número de usuarios)\n",
    "    n_main_screen = pivot[step_1].shape[0]\n",
    "    n_offers_screen = pivot[step_2].shape[0]\n",
    "    n_cart_screen = pivot[step_3].shape[0]\n",
    "    n_payment_successful = pivot[step_4].shape[0]\n",
    "\n",
    "    # Crear el DataFrame (embudo)\n",
    "    funnel = pd.DataFrame({\n",
    "        'event_name': ['MainScreenAppear', 'OffersScreenAppear', 'CartScreenAppear', 'PaymentScreenSuccessful'],\n",
    "        'sequential_users': [n_main_screen, n_offers_screen, n_cart_screen, n_payment_successful]\n",
    "    })\n",
    "    # Calculando la tasa de conversión\n",
    "    funnel['conversion_rate'] = funnel['sequential_users'] / funnel['sequential_users'].shift(1)\n",
    "    funnel['conversion_rate'] = funnel['conversion_rate'].fillna(1)\n",
    "    # Calculando la tasa de conversión desde el inicio\n",
    "    funnel['conversion_from_start'] = funnel['sequential_users'] / funnel['sequential_users'][0]\n",
    "\n",
    "    return funnel"
   ]
  },
  {
   "cell_type": "code",
   "execution_count": 30,
   "id": "aed3ecf4",
   "metadata": {},
   "outputs": [],
   "source": [
    "# Definiendo función para realizar test de tasas de conversión.\n",
    "def ztest_conversion_control (grupo1, grupo2, etapa:int):\n",
    "    \"\"\"\n",
    "    Realiza una prueba Z de proporciones para comparar las tasas de conversión entre dos grupos\n",
    "    en una etapa específica de un embudo secuencial.\n",
    "\n",
    "    Parámetros:\n",
    "    - grupo1 (DataFrame): DataFrame que contiene una columna 'sequential_users' con los conteos acumulados por etapa.\n",
    "    - grupo2 (DataFrame): DataFrame similar al grupo1, con la misma estructura.\n",
    "    - etapa (int): Índice de la etapa a evaluar. Debe ser >= 0 y menor que la longitud de los datos.\n",
    "\n",
    "    Lógica:\n",
    "    - Si etapa == 0: Lanza advertencia ya que no tiene sentido comparar tasas de conversión sin transición y termina la ejecución de la función.\n",
    "    - Si etapa > 0: compara la proporción de usuarios que pasan de la etapa anterior a la actual.\n",
    "    - Si etapa no existe: muestra un mensaje de error y detiene la ejecución.\n",
    "\n",
    "    La función imprime el estadístico Z, el valor p y un mensaje indicando si la diferencia es estadísticamente significativa (α = 0.05).\n",
    "    \"\"\"\n",
    "    # Éxitos y totales por grupo\n",
    "    if etapa == 0:\n",
    "        print(\"⚠️ No se puede aplicar la prueba Z en la etapa 0: no hay transición previa.\")\n",
    "        return\n",
    "    elif (etapa > 0) and (etapa < len(grupo1)):\n",
    "        exitos = [grupo1['sequential_users'][etapa], grupo2['sequential_users'][etapa]]\n",
    "        totales = [grupo1['sequential_users'][etapa - 1], grupo2['sequential_users'][etapa - 1]]\n",
    "    else:\n",
    "        print(f'❌¡ERROR! No existe la etapa {etapa}')\n",
    "        return\n",
    "    \n",
    "    # Prueba Z de proporciones\n",
    "    stat, p_value = proportions_ztest(exitos, totales)\n",
    "\n",
    "    print(f'- Estadístico Z: {stat:.3f}')\n",
    "    print(f'- Valor p: {p_value:.3f}')\n",
    "\n",
    "    # Valor de significancia\n",
    "    alpha = 0.05\n",
    "\n",
    "    if p_value < alpha:\n",
    "        print(\"✅ Se rechaza la hipótesis nula, existe diferencia significativa en tasas de conversión.\")\n",
    "    else:\n",
    "        print(\"❌ No es posible rechazar la hipótesis nula, no hay diferencia significativa en tasas de conversión.\")"
   ]
  },
  {
   "cell_type": "code",
   "execution_count": 31,
   "id": "90cdd2be",
   "metadata": {},
   "outputs": [
    {
     "name": "stdout",
     "output_type": "stream",
     "text": [
      "Embudo grupo A1\n"
     ]
    },
    {
     "data": {
      "text/html": [
       "<div>\n",
       "<style scoped>\n",
       "    .dataframe tbody tr th:only-of-type {\n",
       "        vertical-align: middle;\n",
       "    }\n",
       "\n",
       "    .dataframe tbody tr th {\n",
       "        vertical-align: top;\n",
       "    }\n",
       "\n",
       "    .dataframe thead th {\n",
       "        text-align: right;\n",
       "    }\n",
       "</style>\n",
       "<table border=\"1\" class=\"dataframe\">\n",
       "  <thead>\n",
       "    <tr style=\"text-align: right;\">\n",
       "      <th></th>\n",
       "      <th>event_name</th>\n",
       "      <th>sequential_users</th>\n",
       "      <th>conversion_rate</th>\n",
       "      <th>conversion_from_start</th>\n",
       "    </tr>\n",
       "  </thead>\n",
       "  <tbody>\n",
       "    <tr>\n",
       "      <th>0</th>\n",
       "      <td>MainScreenAppear</td>\n",
       "      <td>2450</td>\n",
       "      <td>1.000000</td>\n",
       "      <td>1.000000</td>\n",
       "    </tr>\n",
       "    <tr>\n",
       "      <th>1</th>\n",
       "      <td>OffersScreenAppear</td>\n",
       "      <td>1411</td>\n",
       "      <td>0.575918</td>\n",
       "      <td>0.575918</td>\n",
       "    </tr>\n",
       "    <tr>\n",
       "      <th>2</th>\n",
       "      <td>CartScreenAppear</td>\n",
       "      <td>584</td>\n",
       "      <td>0.413891</td>\n",
       "      <td>0.238367</td>\n",
       "    </tr>\n",
       "    <tr>\n",
       "      <th>3</th>\n",
       "      <td>PaymentScreenSuccessful</td>\n",
       "      <td>145</td>\n",
       "      <td>0.248288</td>\n",
       "      <td>0.059184</td>\n",
       "    </tr>\n",
       "  </tbody>\n",
       "</table>\n",
       "</div>"
      ],
      "text/plain": [
       "                event_name  sequential_users  conversion_rate  \\\n",
       "0         MainScreenAppear              2450         1.000000   \n",
       "1       OffersScreenAppear              1411         0.575918   \n",
       "2         CartScreenAppear               584         0.413891   \n",
       "3  PaymentScreenSuccessful               145         0.248288   \n",
       "\n",
       "   conversion_from_start  \n",
       "0               1.000000  \n",
       "1               0.575918  \n",
       "2               0.238367  \n",
       "3               0.059184  "
      ]
     },
     "metadata": {},
     "output_type": "display_data"
    },
    {
     "name": "stdout",
     "output_type": "stream",
     "text": [
      "Embudo grupo A2\n"
     ]
    },
    {
     "data": {
      "text/html": [
       "<div>\n",
       "<style scoped>\n",
       "    .dataframe tbody tr th:only-of-type {\n",
       "        vertical-align: middle;\n",
       "    }\n",
       "\n",
       "    .dataframe tbody tr th {\n",
       "        vertical-align: top;\n",
       "    }\n",
       "\n",
       "    .dataframe thead th {\n",
       "        text-align: right;\n",
       "    }\n",
       "</style>\n",
       "<table border=\"1\" class=\"dataframe\">\n",
       "  <thead>\n",
       "    <tr style=\"text-align: right;\">\n",
       "      <th></th>\n",
       "      <th>event_name</th>\n",
       "      <th>sequential_users</th>\n",
       "      <th>conversion_rate</th>\n",
       "      <th>conversion_from_start</th>\n",
       "    </tr>\n",
       "  </thead>\n",
       "  <tbody>\n",
       "    <tr>\n",
       "      <th>0</th>\n",
       "      <td>MainScreenAppear</td>\n",
       "      <td>2476</td>\n",
       "      <td>1.000000</td>\n",
       "      <td>1.000000</td>\n",
       "    </tr>\n",
       "    <tr>\n",
       "      <th>1</th>\n",
       "      <td>OffersScreenAppear</td>\n",
       "      <td>1379</td>\n",
       "      <td>0.556947</td>\n",
       "      <td>0.556947</td>\n",
       "    </tr>\n",
       "    <tr>\n",
       "      <th>2</th>\n",
       "      <td>CartScreenAppear</td>\n",
       "      <td>600</td>\n",
       "      <td>0.435098</td>\n",
       "      <td>0.242326</td>\n",
       "    </tr>\n",
       "    <tr>\n",
       "      <th>3</th>\n",
       "      <td>PaymentScreenSuccessful</td>\n",
       "      <td>144</td>\n",
       "      <td>0.240000</td>\n",
       "      <td>0.058158</td>\n",
       "    </tr>\n",
       "  </tbody>\n",
       "</table>\n",
       "</div>"
      ],
      "text/plain": [
       "                event_name  sequential_users  conversion_rate  \\\n",
       "0         MainScreenAppear              2476         1.000000   \n",
       "1       OffersScreenAppear              1379         0.556947   \n",
       "2         CartScreenAppear               600         0.435098   \n",
       "3  PaymentScreenSuccessful               144         0.240000   \n",
       "\n",
       "   conversion_from_start  \n",
       "0               1.000000  \n",
       "1               0.556947  \n",
       "2               0.242326  \n",
       "3               0.058158  "
      ]
     },
     "metadata": {},
     "output_type": "display_data"
    }
   ],
   "source": [
    "# Creando embudos a partir de la función antes definida:\n",
    "funnel_A1 = create_funnel(actividad_A1)\n",
    "print('Embudo grupo A1')\n",
    "display(funnel_A1)\n",
    "\n",
    "funnel_A2 = create_funnel(actividad_A2)\n",
    "print('Embudo grupo A2')\n",
    "display(funnel_A2)"
   ]
  },
  {
   "cell_type": "markdown",
   "id": "06bdc01c",
   "metadata": {},
   "source": [
    "**Prueba A/A** \n",
    "(A1/A2)\n",
    "\n",
    "- **Hipótesis nula:** No existen diferencias significativas en tasas de conversión.\n",
    "- **Hipótesis alternativa:** Existen diferencias significativas en tasas de conversión.\n",
    "---"
   ]
  },
  {
   "cell_type": "code",
   "execution_count": 32,
   "id": "fe278e0f",
   "metadata": {},
   "outputs": [
    {
     "name": "stdout",
     "output_type": "stream",
     "text": [
      "Test estadístico para la etapa \"MainScreenAppear\" - A1 vs A2:\n",
      "⚠️ No se puede aplicar la prueba Z en la etapa 0: no hay transición previa.\n"
     ]
    }
   ],
   "source": [
    "print(f'Test estadístico para la etapa \"{funnel_A1['event_name'][0]}\" - A1 vs A2:')\n",
    "ztest_conversion_control(funnel_A1, funnel_A2, 0)\n"
   ]
  },
  {
   "cell_type": "code",
   "execution_count": 33,
   "id": "37ec2546",
   "metadata": {},
   "outputs": [
    {
     "name": "stdout",
     "output_type": "stream",
     "text": [
      "Test estadístico para la etapa \"OffersScreenAppear\" - A1 vs A2:\n",
      "- Estadístico Z: 1.343\n",
      "- Valor p: 0.179\n",
      "❌ No es posible rechazar la hipótesis nula, no hay diferencia significativa en tasas de conversión.\n"
     ]
    }
   ],
   "source": [
    "print(f'Test estadístico para la etapa \"{funnel_A1['event_name'][1]}\" - A1 vs A2:')\n",
    "ztest_conversion_control(funnel_A1, funnel_A2, 1)\n"
   ]
  },
  {
   "cell_type": "code",
   "execution_count": 34,
   "id": "bfa0db81",
   "metadata": {},
   "outputs": [
    {
     "name": "stdout",
     "output_type": "stream",
     "text": [
      "Test estadístico para la etapa \"CartScreenAppear\" - A1 vs A2:\n",
      "- Estadístico Z: -1.133\n",
      "- Valor p: 0.257\n",
      "❌ No es posible rechazar la hipótesis nula, no hay diferencia significativa en tasas de conversión.\n"
     ]
    }
   ],
   "source": [
    "print(f'Test estadístico para la etapa \"{funnel_A1['event_name'][2]}\" - A1 vs A2:')\n",
    "ztest_conversion_control(funnel_A1, funnel_A2, 2)"
   ]
  },
  {
   "cell_type": "code",
   "execution_count": 35,
   "id": "b777af63",
   "metadata": {},
   "outputs": [
    {
     "name": "stdout",
     "output_type": "stream",
     "text": [
      "Test estadístico para la etapa \"PaymentScreenSuccessful\" - A1 vs A2:\n",
      "- Estadístico Z: 0.332\n",
      "- Valor p: 0.740\n",
      "❌ No es posible rechazar la hipótesis nula, no hay diferencia significativa en tasas de conversión.\n"
     ]
    }
   ],
   "source": [
    "print(f'Test estadístico para la etapa \"{funnel_A1['event_name'][3]}\" - A1 vs A2:')\n",
    "ztest_conversion_control(funnel_A1, funnel_A2, 3)"
   ]
  },
  {
   "cell_type": "markdown",
   "id": "e20de114",
   "metadata": {},
   "source": [
    "- **¿Puedes confirmar que los grupos se dividieron correctamente?**\n",
    "\n",
    "ℹ️ **No se observaron diferencias** significativas en las tasas de conversión entre los grupos A1 y A2 en ninguna de las etapas evaluadas.** ℹ️ \n",
    "\n",
    "Esto indica que **la prueba A/A fue exitosa**, ya que ambos grupos se comportaron de manera consistente."
   ]
  },
  {
   "cell_type": "markdown",
   "id": "018f5d85",
   "metadata": {},
   "source": [
    "#### **Haz lo mismo para el grupo con fuentes alteradas. Compara los resultados con los de cada uno de los grupos de control para cada evento de forma aislada. Compara los resultados con los resultados combinados de los grupos de control. ¿Qué conclusiones puedes sacar del experimento?**\n",
    "\n"
   ]
  },
  {
   "cell_type": "code",
   "execution_count": 36,
   "id": "f7a4441b",
   "metadata": {},
   "outputs": [],
   "source": [
    "# Definiendo función para realizar test de tasas de conversión.\n",
    "def ztest_conversion (grupo1, grupo2, etapa:int):\n",
    "    \"\"\"\n",
    "    Realiza una prueba Z de proporciones para comparar las tasas de conversión entre dos grupos\n",
    "    en una etapa específica de un embudo secuencial.\n",
    "\n",
    "    Parámetros:\n",
    "    - grupo1 (DataFrame): DataFrame con datos de control que contiene una columna 'sequential_users' con los conteos acumulados por etapa.\n",
    "    - grupo2 (DataFrame): DataFrame con datos de fuentes alteradas, con la misma estructura que grupo1.\n",
    "    - etapa (int): Índice de la etapa a evaluar. Debe ser >= 0 y menor que la longitud de los datos.\n",
    "\n",
    "    Lógica:\n",
    "    - Si etapa == 0: Lanza advertencia ya que no tiene sentido comparar tasas de conversión sin transición y termina la ejecución de la función.\n",
    "    - Si etapa > 0: compara la proporción de usuarios que pasan de la etapa anterior a la actual.\n",
    "    - Si etapa no existe: muestra un mensaje de error y detiene la ejecución.\n",
    "\n",
    "    La función imprime el estadístico Z, el valor p y un mensaje indicando si la diferencia es estadísticamente significativa (α = 0.05).\n",
    "    \"\"\"\n",
    "    # Éxitos y totales por grupo\n",
    "    if etapa == 0:\n",
    "        print(\"⚠️ No se puede aplicar la prueba Z en la etapa 0: no hay transición previa.\")\n",
    "        return\n",
    "    elif (etapa > 0) and (etapa < len(grupo1)):\n",
    "        exitos = [grupo1['sequential_users'][etapa], grupo2['sequential_users'][etapa]]\n",
    "        totales = [grupo1['sequential_users'][etapa - 1], grupo2['sequential_users'][etapa - 1]]\n",
    "    else:\n",
    "        print(f'❌¡ERROR! No existe la etapa {etapa}')\n",
    "        return\n",
    "    \n",
    "    # Prueba Z de proporciones\n",
    "    stat, p_value = proportions_ztest(exitos, totales)\n",
    "\n",
    "    print(f'- Estadístico Z: {stat:.3f}')\n",
    "    print(f'- Valor p: {p_value/2:.3f}')\n",
    "\n",
    "    # Valor de significancia\n",
    "    alpha = 0.05\n",
    "\n",
    "    if ((p_value/2) < alpha) and (grupo1['conversion_rate'][etapa] < grupo2['conversion_rate'][etapa]):\n",
    "        print(\"✅ Se rechaza la hipótesis nula, la tasa de conversión en B es mayor a la tasa de conversión en A.\")\n",
    "    else:\n",
    "        print(\"❌ No es posible rechazar la hipótesis nula, no exite diferencia significativa en tasas de conversión.\")"
   ]
  },
  {
   "cell_type": "markdown",
   "id": "cd1ccd2c",
   "metadata": {},
   "source": [
    "**A1/B**\n",
    "\n",
    "- **Hipótesis nula:** La tasa de conversión de B es MENOR o IGUAL a la tasa de conversión de A1.\n",
    "- **Hipótesis alternativa:** La tasa de conversión de B es MAYOR a la tasa de conversión de A1.\n",
    "---"
   ]
  },
  {
   "cell_type": "code",
   "execution_count": 37,
   "id": "5151d230",
   "metadata": {},
   "outputs": [
    {
     "name": "stdout",
     "output_type": "stream",
     "text": [
      "Embudo grupo A1:\n"
     ]
    },
    {
     "data": {
      "text/html": [
       "<div>\n",
       "<style scoped>\n",
       "    .dataframe tbody tr th:only-of-type {\n",
       "        vertical-align: middle;\n",
       "    }\n",
       "\n",
       "    .dataframe tbody tr th {\n",
       "        vertical-align: top;\n",
       "    }\n",
       "\n",
       "    .dataframe thead th {\n",
       "        text-align: right;\n",
       "    }\n",
       "</style>\n",
       "<table border=\"1\" class=\"dataframe\">\n",
       "  <thead>\n",
       "    <tr style=\"text-align: right;\">\n",
       "      <th></th>\n",
       "      <th>event_name</th>\n",
       "      <th>sequential_users</th>\n",
       "      <th>conversion_rate</th>\n",
       "      <th>conversion_from_start</th>\n",
       "    </tr>\n",
       "  </thead>\n",
       "  <tbody>\n",
       "    <tr>\n",
       "      <th>0</th>\n",
       "      <td>MainScreenAppear</td>\n",
       "      <td>2450</td>\n",
       "      <td>1.000000</td>\n",
       "      <td>1.000000</td>\n",
       "    </tr>\n",
       "    <tr>\n",
       "      <th>1</th>\n",
       "      <td>OffersScreenAppear</td>\n",
       "      <td>1411</td>\n",
       "      <td>0.575918</td>\n",
       "      <td>0.575918</td>\n",
       "    </tr>\n",
       "    <tr>\n",
       "      <th>2</th>\n",
       "      <td>CartScreenAppear</td>\n",
       "      <td>584</td>\n",
       "      <td>0.413891</td>\n",
       "      <td>0.238367</td>\n",
       "    </tr>\n",
       "    <tr>\n",
       "      <th>3</th>\n",
       "      <td>PaymentScreenSuccessful</td>\n",
       "      <td>145</td>\n",
       "      <td>0.248288</td>\n",
       "      <td>0.059184</td>\n",
       "    </tr>\n",
       "  </tbody>\n",
       "</table>\n",
       "</div>"
      ],
      "text/plain": [
       "                event_name  sequential_users  conversion_rate  \\\n",
       "0         MainScreenAppear              2450         1.000000   \n",
       "1       OffersScreenAppear              1411         0.575918   \n",
       "2         CartScreenAppear               584         0.413891   \n",
       "3  PaymentScreenSuccessful               145         0.248288   \n",
       "\n",
       "   conversion_from_start  \n",
       "0               1.000000  \n",
       "1               0.575918  \n",
       "2               0.238367  \n",
       "3               0.059184  "
      ]
     },
     "metadata": {},
     "output_type": "display_data"
    },
    {
     "name": "stdout",
     "output_type": "stream",
     "text": [
      "Embudo grupo B:\n"
     ]
    },
    {
     "data": {
      "text/html": [
       "<div>\n",
       "<style scoped>\n",
       "    .dataframe tbody tr th:only-of-type {\n",
       "        vertical-align: middle;\n",
       "    }\n",
       "\n",
       "    .dataframe tbody tr th {\n",
       "        vertical-align: top;\n",
       "    }\n",
       "\n",
       "    .dataframe thead th {\n",
       "        text-align: right;\n",
       "    }\n",
       "</style>\n",
       "<table border=\"1\" class=\"dataframe\">\n",
       "  <thead>\n",
       "    <tr style=\"text-align: right;\">\n",
       "      <th></th>\n",
       "      <th>event_name</th>\n",
       "      <th>sequential_users</th>\n",
       "      <th>conversion_rate</th>\n",
       "      <th>conversion_from_start</th>\n",
       "    </tr>\n",
       "  </thead>\n",
       "  <tbody>\n",
       "    <tr>\n",
       "      <th>0</th>\n",
       "      <td>MainScreenAppear</td>\n",
       "      <td>2493</td>\n",
       "      <td>1.000000</td>\n",
       "      <td>1.000000</td>\n",
       "    </tr>\n",
       "    <tr>\n",
       "      <th>1</th>\n",
       "      <td>OffersScreenAppear</td>\n",
       "      <td>1411</td>\n",
       "      <td>0.565985</td>\n",
       "      <td>0.565985</td>\n",
       "    </tr>\n",
       "    <tr>\n",
       "      <th>2</th>\n",
       "      <td>CartScreenAppear</td>\n",
       "      <td>583</td>\n",
       "      <td>0.413182</td>\n",
       "      <td>0.233855</td>\n",
       "    </tr>\n",
       "    <tr>\n",
       "      <th>3</th>\n",
       "      <td>PaymentScreenSuccessful</td>\n",
       "      <td>165</td>\n",
       "      <td>0.283019</td>\n",
       "      <td>0.066185</td>\n",
       "    </tr>\n",
       "  </tbody>\n",
       "</table>\n",
       "</div>"
      ],
      "text/plain": [
       "                event_name  sequential_users  conversion_rate  \\\n",
       "0         MainScreenAppear              2493         1.000000   \n",
       "1       OffersScreenAppear              1411         0.565985   \n",
       "2         CartScreenAppear               583         0.413182   \n",
       "3  PaymentScreenSuccessful               165         0.283019   \n",
       "\n",
       "   conversion_from_start  \n",
       "0               1.000000  \n",
       "1               0.565985  \n",
       "2               0.233855  \n",
       "3               0.066185  "
      ]
     },
     "metadata": {},
     "output_type": "display_data"
    }
   ],
   "source": [
    "funnel_A1 = create_funnel(actividad_A1)\n",
    "print('Embudo grupo A1:')\n",
    "display(funnel_A1)\n",
    "\n",
    "funnel_B = create_funnel(actividad_B)\n",
    "print('Embudo grupo B:')\n",
    "display(funnel_B)"
   ]
  },
  {
   "cell_type": "code",
   "execution_count": 38,
   "id": "c3ab9ef1",
   "metadata": {},
   "outputs": [
    {
     "name": "stdout",
     "output_type": "stream",
     "text": [
      "Test estadístico para la etapa \"MainScreenAppear\" - A1 vs B:\n",
      "⚠️ No se puede aplicar la prueba Z en la etapa 0: no hay transición previa.\n"
     ]
    }
   ],
   "source": [
    "print(f'Test estadístico para la etapa \"{funnel_A1['event_name'][0]}\" - A1 vs B:')\n",
    "ztest_conversion(funnel_A1, funnel_B, 0)"
   ]
  },
  {
   "cell_type": "code",
   "execution_count": 39,
   "id": "53ba5fb6",
   "metadata": {},
   "outputs": [
    {
     "name": "stdout",
     "output_type": "stream",
     "text": [
      "Test estadístico para la etapa \"OffersScreenAppear\" - A1 vs B:\n",
      "- Estadístico Z: 0.706\n",
      "- Valor p: 0.240\n",
      "❌ No es posible rechazar la hipótesis nula, no exite diferencia significativa en tasas de conversión.\n"
     ]
    }
   ],
   "source": [
    "print(f'Test estadístico para la etapa \"{funnel_A1['event_name'][1]}\" - A1 vs B:')\n",
    "ztest_conversion(funnel_A1, funnel_B, 1)"
   ]
  },
  {
   "cell_type": "code",
   "execution_count": 40,
   "id": "4b2ca5e1",
   "metadata": {},
   "outputs": [
    {
     "name": "stdout",
     "output_type": "stream",
     "text": [
      "Test estadístico para la etapa \"CartScreenAppear\" - A1 vs B:\n",
      "- Estadístico Z: 0.038\n",
      "- Valor p: 0.485\n",
      "❌ No es posible rechazar la hipótesis nula, no exite diferencia significativa en tasas de conversión.\n"
     ]
    }
   ],
   "source": [
    "print(f'Test estadístico para la etapa \"{funnel_A1['event_name'][2]}\" - A1 vs B:')\n",
    "ztest_conversion(funnel_A1, funnel_B, 2)"
   ]
  },
  {
   "cell_type": "code",
   "execution_count": 41,
   "id": "b4fe84fb",
   "metadata": {},
   "outputs": [
    {
     "name": "stdout",
     "output_type": "stream",
     "text": [
      "Test estadístico para la etapa \"PaymentScreenSuccessful\" - A1 vs B:\n",
      "- Estadístico Z: -1.343\n",
      "- Valor p: 0.090\n",
      "❌ No es posible rechazar la hipótesis nula, no exite diferencia significativa en tasas de conversión.\n"
     ]
    }
   ],
   "source": [
    "print(f'Test estadístico para la etapa \"{funnel_A1['event_name'][3]}\" - A1 vs B:')\n",
    "ztest_conversion(funnel_A1, funnel_B, 3)"
   ]
  },
  {
   "cell_type": "markdown",
   "id": "37d44450",
   "metadata": {},
   "source": [
    "ℹ️ Al realizar la prueba de hipótesis entre A1/B, **no se observan diferencias significativas en las tasas de conversión en ninguna de las etapas.** ℹ️"
   ]
  },
  {
   "cell_type": "markdown",
   "id": "2815fd6d",
   "metadata": {},
   "source": [
    "**A2/B**\n",
    "\n",
    "- **Hipótesis nula:** La tasa de conversión de B es MENOR o IGUAL a la tasa de conversión de A2.\n",
    "- **Hipótesis alternativa:** La tasa de conversión de B es MAYOR a la tasa de conversión de A2.\n",
    "---"
   ]
  },
  {
   "cell_type": "code",
   "execution_count": 42,
   "id": "a26a3faa",
   "metadata": {},
   "outputs": [
    {
     "name": "stdout",
     "output_type": "stream",
     "text": [
      "Embudo grupo A2:\n"
     ]
    },
    {
     "data": {
      "text/html": [
       "<div>\n",
       "<style scoped>\n",
       "    .dataframe tbody tr th:only-of-type {\n",
       "        vertical-align: middle;\n",
       "    }\n",
       "\n",
       "    .dataframe tbody tr th {\n",
       "        vertical-align: top;\n",
       "    }\n",
       "\n",
       "    .dataframe thead th {\n",
       "        text-align: right;\n",
       "    }\n",
       "</style>\n",
       "<table border=\"1\" class=\"dataframe\">\n",
       "  <thead>\n",
       "    <tr style=\"text-align: right;\">\n",
       "      <th></th>\n",
       "      <th>event_name</th>\n",
       "      <th>sequential_users</th>\n",
       "      <th>conversion_rate</th>\n",
       "      <th>conversion_from_start</th>\n",
       "    </tr>\n",
       "  </thead>\n",
       "  <tbody>\n",
       "    <tr>\n",
       "      <th>0</th>\n",
       "      <td>MainScreenAppear</td>\n",
       "      <td>2476</td>\n",
       "      <td>1.000000</td>\n",
       "      <td>1.000000</td>\n",
       "    </tr>\n",
       "    <tr>\n",
       "      <th>1</th>\n",
       "      <td>OffersScreenAppear</td>\n",
       "      <td>1379</td>\n",
       "      <td>0.556947</td>\n",
       "      <td>0.556947</td>\n",
       "    </tr>\n",
       "    <tr>\n",
       "      <th>2</th>\n",
       "      <td>CartScreenAppear</td>\n",
       "      <td>600</td>\n",
       "      <td>0.435098</td>\n",
       "      <td>0.242326</td>\n",
       "    </tr>\n",
       "    <tr>\n",
       "      <th>3</th>\n",
       "      <td>PaymentScreenSuccessful</td>\n",
       "      <td>144</td>\n",
       "      <td>0.240000</td>\n",
       "      <td>0.058158</td>\n",
       "    </tr>\n",
       "  </tbody>\n",
       "</table>\n",
       "</div>"
      ],
      "text/plain": [
       "                event_name  sequential_users  conversion_rate  \\\n",
       "0         MainScreenAppear              2476         1.000000   \n",
       "1       OffersScreenAppear              1379         0.556947   \n",
       "2         CartScreenAppear               600         0.435098   \n",
       "3  PaymentScreenSuccessful               144         0.240000   \n",
       "\n",
       "   conversion_from_start  \n",
       "0               1.000000  \n",
       "1               0.556947  \n",
       "2               0.242326  \n",
       "3               0.058158  "
      ]
     },
     "metadata": {},
     "output_type": "display_data"
    },
    {
     "name": "stdout",
     "output_type": "stream",
     "text": [
      "Embudo grupo B:\n"
     ]
    },
    {
     "data": {
      "text/html": [
       "<div>\n",
       "<style scoped>\n",
       "    .dataframe tbody tr th:only-of-type {\n",
       "        vertical-align: middle;\n",
       "    }\n",
       "\n",
       "    .dataframe tbody tr th {\n",
       "        vertical-align: top;\n",
       "    }\n",
       "\n",
       "    .dataframe thead th {\n",
       "        text-align: right;\n",
       "    }\n",
       "</style>\n",
       "<table border=\"1\" class=\"dataframe\">\n",
       "  <thead>\n",
       "    <tr style=\"text-align: right;\">\n",
       "      <th></th>\n",
       "      <th>event_name</th>\n",
       "      <th>sequential_users</th>\n",
       "      <th>conversion_rate</th>\n",
       "      <th>conversion_from_start</th>\n",
       "    </tr>\n",
       "  </thead>\n",
       "  <tbody>\n",
       "    <tr>\n",
       "      <th>0</th>\n",
       "      <td>MainScreenAppear</td>\n",
       "      <td>2493</td>\n",
       "      <td>1.000000</td>\n",
       "      <td>1.000000</td>\n",
       "    </tr>\n",
       "    <tr>\n",
       "      <th>1</th>\n",
       "      <td>OffersScreenAppear</td>\n",
       "      <td>1411</td>\n",
       "      <td>0.565985</td>\n",
       "      <td>0.565985</td>\n",
       "    </tr>\n",
       "    <tr>\n",
       "      <th>2</th>\n",
       "      <td>CartScreenAppear</td>\n",
       "      <td>583</td>\n",
       "      <td>0.413182</td>\n",
       "      <td>0.233855</td>\n",
       "    </tr>\n",
       "    <tr>\n",
       "      <th>3</th>\n",
       "      <td>PaymentScreenSuccessful</td>\n",
       "      <td>165</td>\n",
       "      <td>0.283019</td>\n",
       "      <td>0.066185</td>\n",
       "    </tr>\n",
       "  </tbody>\n",
       "</table>\n",
       "</div>"
      ],
      "text/plain": [
       "                event_name  sequential_users  conversion_rate  \\\n",
       "0         MainScreenAppear              2493         1.000000   \n",
       "1       OffersScreenAppear              1411         0.565985   \n",
       "2         CartScreenAppear               583         0.413182   \n",
       "3  PaymentScreenSuccessful               165         0.283019   \n",
       "\n",
       "   conversion_from_start  \n",
       "0               1.000000  \n",
       "1               0.565985  \n",
       "2               0.233855  \n",
       "3               0.066185  "
      ]
     },
     "metadata": {},
     "output_type": "display_data"
    }
   ],
   "source": [
    "funnel_A2 = create_funnel(actividad_A2)\n",
    "print('Embudo grupo A2:')\n",
    "display(funnel_A2)\n",
    "\n",
    "funnel_B = create_funnel(actividad_B)\n",
    "print('Embudo grupo B:')\n",
    "display(funnel_B)"
   ]
  },
  {
   "cell_type": "code",
   "execution_count": 43,
   "id": "f97806f0",
   "metadata": {},
   "outputs": [
    {
     "name": "stdout",
     "output_type": "stream",
     "text": [
      "Test estadístico para la etapa \"MainScreenAppear\" - A2 vs B:\n",
      "⚠️ No se puede aplicar la prueba Z en la etapa 0: no hay transición previa.\n"
     ]
    }
   ],
   "source": [
    "print(f'Test estadístico para la etapa \"{funnel_A2['event_name'][0]}\" - A2 vs B:')\n",
    "ztest_conversion(funnel_A2, funnel_B, 0)"
   ]
  },
  {
   "cell_type": "code",
   "execution_count": 44,
   "id": "d76c5beb",
   "metadata": {},
   "outputs": [
    {
     "name": "stdout",
     "output_type": "stream",
     "text": [
      "Test estadístico para la etapa \"OffersScreenAppear\" - A2 vs B:\n",
      "- Estadístico Z: -0.642\n",
      "- Valor p: 0.260\n",
      "❌ No es posible rechazar la hipótesis nula, no exite diferencia significativa en tasas de conversión.\n"
     ]
    }
   ],
   "source": [
    "print(f'Test estadístico para la etapa \"{funnel_A2['event_name'][1]}\" - A2 vs B:')\n",
    "ztest_conversion(funnel_A2, funnel_B, 1)"
   ]
  },
  {
   "cell_type": "code",
   "execution_count": 45,
   "id": "1ebc3607",
   "metadata": {},
   "outputs": [
    {
     "name": "stdout",
     "output_type": "stream",
     "text": [
      "Test estadístico para la etapa \"CartScreenAppear\" - A2 vs B:\n",
      "- Estadístico Z: 1.171\n",
      "- Valor p: 0.121\n",
      "❌ No es posible rechazar la hipótesis nula, no exite diferencia significativa en tasas de conversión.\n"
     ]
    }
   ],
   "source": [
    "print(f'Test estadístico para la etapa \"{funnel_A2['event_name'][2]}\" - A2 vs B:')\n",
    "ztest_conversion(funnel_A2, funnel_B, 2)"
   ]
  },
  {
   "cell_type": "code",
   "execution_count": 46,
   "id": "7caa51c9",
   "metadata": {},
   "outputs": [
    {
     "name": "stdout",
     "output_type": "stream",
     "text": [
      "Test estadístico para la etapa \"PaymentScreenSuccessful\" - A2 vs B:\n",
      "- Estadístico Z: -1.684\n",
      "- Valor p: 0.046\n",
      "✅ Se rechaza la hipótesis nula, la tasa de conversión en B es mayor a la tasa de conversión en A.\n"
     ]
    }
   ],
   "source": [
    "print(f'Test estadístico para la etapa \"{funnel_A2['event_name'][3]}\" - A2 vs B:')\n",
    "ztest_conversion(funnel_A2, funnel_B, 3)"
   ]
  },
  {
   "cell_type": "markdown",
   "id": "631664bf",
   "metadata": {},
   "source": [
    "ℹ️ Al realizar la prueba de hipótesis entre A2/B, **se observa diferencia significativa en las tasas de conversión para la etapa final, Payment Screen Successful.** ℹ️\n",
    "\n",
    "‼️ La tasa de conversión en el grupo B es mayor a la tasa del conversión del grupo A2."
   ]
  },
  {
   "cell_type": "markdown",
   "id": "1bc3f57a",
   "metadata": {},
   "source": [
    "**A1+A2/B**\n",
    "\n",
    "- **Hipótesis nula:** La tasa de conversión de B es MENOR o IGUAL a la tasa de conversión de A1&A2 (datos combinados).\n",
    "- **Hipótesis alternativa:** La tasa de conversión de B es MAYOR a la tasa de conversión de A1&A2 (datos combinados).\n",
    " ---"
   ]
  },
  {
   "cell_type": "code",
   "execution_count": 47,
   "id": "710cd38a",
   "metadata": {},
   "outputs": [],
   "source": [
    "# Uniendo actividad de los dos grupos de control\n",
    "actividad_A1_A2 = pd.concat([actividad_A1, actividad_A2])\n",
    "# Creando embudo considerando ambos grupos de control como uno solo\n",
    "funnel_A1_A2 = create_funnel(actividad_A1_A2)"
   ]
  },
  {
   "cell_type": "code",
   "execution_count": 48,
   "id": "bf0d63ff",
   "metadata": {},
   "outputs": [
    {
     "name": "stdout",
     "output_type": "stream",
     "text": [
      "Embudo grupo A (Combinado):\n"
     ]
    },
    {
     "data": {
      "text/html": [
       "<div>\n",
       "<style scoped>\n",
       "    .dataframe tbody tr th:only-of-type {\n",
       "        vertical-align: middle;\n",
       "    }\n",
       "\n",
       "    .dataframe tbody tr th {\n",
       "        vertical-align: top;\n",
       "    }\n",
       "\n",
       "    .dataframe thead th {\n",
       "        text-align: right;\n",
       "    }\n",
       "</style>\n",
       "<table border=\"1\" class=\"dataframe\">\n",
       "  <thead>\n",
       "    <tr style=\"text-align: right;\">\n",
       "      <th></th>\n",
       "      <th>event_name</th>\n",
       "      <th>sequential_users</th>\n",
       "      <th>conversion_rate</th>\n",
       "      <th>conversion_from_start</th>\n",
       "    </tr>\n",
       "  </thead>\n",
       "  <tbody>\n",
       "    <tr>\n",
       "      <th>0</th>\n",
       "      <td>MainScreenAppear</td>\n",
       "      <td>4926</td>\n",
       "      <td>1.000000</td>\n",
       "      <td>1.000000</td>\n",
       "    </tr>\n",
       "    <tr>\n",
       "      <th>1</th>\n",
       "      <td>OffersScreenAppear</td>\n",
       "      <td>2790</td>\n",
       "      <td>0.566382</td>\n",
       "      <td>0.566382</td>\n",
       "    </tr>\n",
       "    <tr>\n",
       "      <th>2</th>\n",
       "      <td>CartScreenAppear</td>\n",
       "      <td>1184</td>\n",
       "      <td>0.424373</td>\n",
       "      <td>0.240357</td>\n",
       "    </tr>\n",
       "    <tr>\n",
       "      <th>3</th>\n",
       "      <td>PaymentScreenSuccessful</td>\n",
       "      <td>289</td>\n",
       "      <td>0.244088</td>\n",
       "      <td>0.058668</td>\n",
       "    </tr>\n",
       "  </tbody>\n",
       "</table>\n",
       "</div>"
      ],
      "text/plain": [
       "                event_name  sequential_users  conversion_rate  \\\n",
       "0         MainScreenAppear              4926         1.000000   \n",
       "1       OffersScreenAppear              2790         0.566382   \n",
       "2         CartScreenAppear              1184         0.424373   \n",
       "3  PaymentScreenSuccessful               289         0.244088   \n",
       "\n",
       "   conversion_from_start  \n",
       "0               1.000000  \n",
       "1               0.566382  \n",
       "2               0.240357  \n",
       "3               0.058668  "
      ]
     },
     "metadata": {},
     "output_type": "display_data"
    },
    {
     "name": "stdout",
     "output_type": "stream",
     "text": [
      "Embudo grupo B:\n"
     ]
    },
    {
     "data": {
      "text/html": [
       "<div>\n",
       "<style scoped>\n",
       "    .dataframe tbody tr th:only-of-type {\n",
       "        vertical-align: middle;\n",
       "    }\n",
       "\n",
       "    .dataframe tbody tr th {\n",
       "        vertical-align: top;\n",
       "    }\n",
       "\n",
       "    .dataframe thead th {\n",
       "        text-align: right;\n",
       "    }\n",
       "</style>\n",
       "<table border=\"1\" class=\"dataframe\">\n",
       "  <thead>\n",
       "    <tr style=\"text-align: right;\">\n",
       "      <th></th>\n",
       "      <th>event_name</th>\n",
       "      <th>sequential_users</th>\n",
       "      <th>conversion_rate</th>\n",
       "      <th>conversion_from_start</th>\n",
       "    </tr>\n",
       "  </thead>\n",
       "  <tbody>\n",
       "    <tr>\n",
       "      <th>0</th>\n",
       "      <td>MainScreenAppear</td>\n",
       "      <td>2493</td>\n",
       "      <td>1.000000</td>\n",
       "      <td>1.000000</td>\n",
       "    </tr>\n",
       "    <tr>\n",
       "      <th>1</th>\n",
       "      <td>OffersScreenAppear</td>\n",
       "      <td>1411</td>\n",
       "      <td>0.565985</td>\n",
       "      <td>0.565985</td>\n",
       "    </tr>\n",
       "    <tr>\n",
       "      <th>2</th>\n",
       "      <td>CartScreenAppear</td>\n",
       "      <td>583</td>\n",
       "      <td>0.413182</td>\n",
       "      <td>0.233855</td>\n",
       "    </tr>\n",
       "    <tr>\n",
       "      <th>3</th>\n",
       "      <td>PaymentScreenSuccessful</td>\n",
       "      <td>165</td>\n",
       "      <td>0.283019</td>\n",
       "      <td>0.066185</td>\n",
       "    </tr>\n",
       "  </tbody>\n",
       "</table>\n",
       "</div>"
      ],
      "text/plain": [
       "                event_name  sequential_users  conversion_rate  \\\n",
       "0         MainScreenAppear              2493         1.000000   \n",
       "1       OffersScreenAppear              1411         0.565985   \n",
       "2         CartScreenAppear               583         0.413182   \n",
       "3  PaymentScreenSuccessful               165         0.283019   \n",
       "\n",
       "   conversion_from_start  \n",
       "0               1.000000  \n",
       "1               0.565985  \n",
       "2               0.233855  \n",
       "3               0.066185  "
      ]
     },
     "metadata": {},
     "output_type": "display_data"
    }
   ],
   "source": [
    "print('Embudo grupo A (Combinado):')\n",
    "display(funnel_A1_A2)\n",
    "print('Embudo grupo B:')\n",
    "display(funnel_B)"
   ]
  },
  {
   "cell_type": "code",
   "execution_count": 49,
   "id": "130bc6e0",
   "metadata": {},
   "outputs": [
    {
     "name": "stdout",
     "output_type": "stream",
     "text": [
      "Test estadístico para la etapa \"MainScreenAppear\" - A1 & A2 vs B:\n",
      "⚠️ No se puede aplicar la prueba Z en la etapa 0: no hay transición previa.\n"
     ]
    }
   ],
   "source": [
    "print(f'Test estadístico para la etapa \"{funnel_A1_A2['event_name'][0]}\" - A1 & A2 vs B:')\n",
    "ztest_conversion(funnel_A1_A2, funnel_B, 0)"
   ]
  },
  {
   "cell_type": "code",
   "execution_count": 50,
   "id": "4aa449f4",
   "metadata": {},
   "outputs": [
    {
     "name": "stdout",
     "output_type": "stream",
     "text": [
      "Test estadístico para la etapa \"OffersScreenAppear\" - A1 & A2 vs B:\n",
      "- Estadístico Z: 0.033\n",
      "- Valor p: 0.487\n",
      "❌ No es posible rechazar la hipótesis nula, no exite diferencia significativa en tasas de conversión.\n"
     ]
    }
   ],
   "source": [
    "print(f'Test estadístico para la etapa \"{funnel_A1_A2['event_name'][1]}\" - A1 & A2 vs B:')\n",
    "ztest_conversion(funnel_A1_A2, funnel_B, 1)"
   ]
  },
  {
   "cell_type": "code",
   "execution_count": 51,
   "id": "91069e86",
   "metadata": {},
   "outputs": [
    {
     "name": "stdout",
     "output_type": "stream",
     "text": [
      "Test estadístico para la etapa \"CartScreenAppear\" - A1 & A2 vs B:\n",
      "- Estadístico Z: 0.694\n",
      "- Valor p: 0.244\n",
      "❌ No es posible rechazar la hipótesis nula, no exite diferencia significativa en tasas de conversión.\n"
     ]
    }
   ],
   "source": [
    "print(f'Test estadístico para la etapa \"{funnel_A1_A2['event_name'][2]}\" - A1 & A2 vs B:')\n",
    "ztest_conversion(funnel_A1_A2, funnel_B, 2)"
   ]
  },
  {
   "cell_type": "code",
   "execution_count": 52,
   "id": "00a112a7",
   "metadata": {},
   "outputs": [
    {
     "name": "stdout",
     "output_type": "stream",
     "text": [
      "Test estadístico para la etapa \"PaymentScreenSuccessful\" - A1 & A2 vs B:\n",
      "- Estadístico Z: -1.761\n",
      "- Valor p: 0.039\n",
      "✅ Se rechaza la hipótesis nula, la tasa de conversión en B es mayor a la tasa de conversión en A.\n"
     ]
    }
   ],
   "source": [
    "print(f'Test estadístico para la etapa \"{funnel_A1_A2['event_name'][3]}\" - A1 & A2 vs B:')\n",
    "ztest_conversion(funnel_A1_A2, funnel_B, 3)"
   ]
  },
  {
   "cell_type": "markdown",
   "id": "ff75f4ae",
   "metadata": {},
   "source": [
    "ℹ️ Al realizar la prueba de hipótesis entre A/B, **se observa diferencia significativa en las tasas de conversión para la etapa final, Payment Screen Successful.** ℹ️\n",
    "\n",
    "‼️✅ La tasa de conversión en el grupo B es mayor a la tasa del conversión del grupo A combinado."
   ]
  },
  {
   "cell_type": "markdown",
   "id": "51c8a304",
   "metadata": {},
   "source": [
    "#### **¿Qué nivel de significancia has establecido para probar las hipótesis estadísticas mencionadas anteriormente? Calcula cuántas pruebas de hipótesis estadísticas has realizado. Con un nivel de significancia estadística de 0.1, uno de cada 10 resultados podría ser falso.**\n",
    "\n",
    "- **¿Cuál debería ser el nivel de significancia? Si deseas cambiarlo, vuelve a ejecutar los pasos anteriores y comprueba tus conclusiones.**"
   ]
  },
  {
   "cell_type": "markdown",
   "id": "a87a50b1",
   "metadata": {},
   "source": [
    "ℹ️ Se han reaizado **12 pruebas de hipótesis estadística con un nivel de significancia alpha de 0.05**. Esto implica que la probabilidad de obtener al menos un falso positivo (rechazar incorrectamente la hipótesis nula) es de aproximadamente 46%. ℹ️\n",
    "\n",
    "Es necesario realizar un ajuste al nivel de significancia alpha con el método de Corrección de Bonferroni: dividiendo el valor de alpha entre el número de pruebas (0.05 / 12), obteniendo un nuevo valor alpha de 0.00417.\n",
    "\n",
    "Este nuevo valor de α es muy estricto, lo que reduce considerablemente la probabilidad de falsos positivos, pero **aumenta el riesgo de falsos negativos**, es decir, de no detectar diferencias que realmente existen.\n",
    "\n",
    "Dado que se comprobó previamente que **no existen diferencias significativas entre los grupos A1 y A2**, se tomó la desición de realizar las pruebas nuevamente únicamente para A1+A2/B. Por lo tanto se realizarán únicamente 3 pruebas. **De esta forma el nuevo valor alpha será: alpha = 0.05 / 3 = 0.0167.**\n",
    "\n",
    "Esta estrategia permite un análisis más eficiente y sensible, sin comprometer el control del error tipo I."
   ]
  },
  {
   "cell_type": "code",
   "execution_count": 53,
   "id": "4a2a6f43",
   "metadata": {},
   "outputs": [],
   "source": [
    "# Definiendo función para realizar test de tasas de conversión.\n",
    "def ztest_AB_alpha_corr (grupo1, grupo2, etapa:int):\n",
    "    \"\"\"\n",
    "    Realiza una prueba Z de proporciones para comparar las tasas de conversión entre dos grupos\n",
    "    en una etapa específica de un embudo secuencial.\n",
    "\n",
    "    Parámetros:\n",
    "    - grupo1 (DataFrame): DataFrame con datos de control que contiene una columna 'sequential_users' con los conteos acumulados por etapa.\n",
    "    - grupo2 (DataFrame): DataFrame con datos de fuentes alteradas, con la misma estructura que grupo1.\n",
    "    - etapa (int): Índice de la etapa a evaluar. Debe ser >= 0 y menor que la longitud de los datos.\n",
    "\n",
    "    Lógica:\n",
    "    - Si etapa == 0: Lanza advertencia ya que no tiene sentido comparar tasas de conversión sin transición y termina la ejecución de la función.\n",
    "    - Si etapa > 0: compara la proporción de usuarios que pasan de la etapa anterior a la actual.\n",
    "    - Si etapa no existe: muestra un mensaje de error y detiene la ejecución.\n",
    "\n",
    "    La función imprime el estadístico Z, el valor p y un mensaje indicando si la diferencia es estadísticamente significativa (α/3 = 0.0167).\n",
    "    \"\"\"\n",
    "    # Éxitos y totales por grupo\n",
    "    if etapa == 0:\n",
    "        print(\"⚠️ No se puede aplicar la prueba Z en la etapa 0: no hay transición previa.\")\n",
    "        return\n",
    "    elif (etapa > 0) and (etapa < len(grupo1)):\n",
    "        exitos = [grupo1['sequential_users'][etapa], grupo2['sequential_users'][etapa]]\n",
    "        totales = [grupo1['sequential_users'][etapa - 1], grupo2['sequential_users'][etapa - 1]]\n",
    "    else:\n",
    "        print(f'❌¡ERROR! No existe la etapa {etapa}')\n",
    "        return\n",
    "    \n",
    "    # Prueba Z de proporciones\n",
    "    stat, p_value = proportions_ztest(exitos, totales)\n",
    "\n",
    "    print(f'- Estadístico Z: {stat:.3f}')\n",
    "    print(f'- Valor p: {p_value/2:.3f}')\n",
    "\n",
    "    # Valor de significancia\n",
    "    alpha = 0.05 / 3 # Ajuste de valor de significancia\n",
    "\n",
    "    if ((p_value/2) < alpha) and (grupo1['conversion_rate'][etapa] < grupo2['conversion_rate'][etapa]):\n",
    "        print(\"✅ Se rechaza la hipótesis nula, la tasa de conversión en B es mayor a la tasa de conversión en A.\")\n",
    "    else:\n",
    "        print(\"❌ No es posible rechazar la hipótesis nula, no exite diferencia significativa en tasas de conversión.\")"
   ]
  },
  {
   "cell_type": "markdown",
   "id": "7b27e9e8",
   "metadata": {},
   "source": [
    "**A/B Test:**\n",
    "\n",
    "- **Hipótesis nula:** La tasa de conversión de B es MENOR o IGUAL a la tasa de conversión de A1&A2 (datos combinados).\n",
    "- **Hipótesis alternativa:** La tasa de conversión de B es MAYOR a la tasa de conversión de A1&A2 (datos combinados).\n",
    "---"
   ]
  },
  {
   "cell_type": "code",
   "execution_count": 54,
   "id": "dd3648f4",
   "metadata": {},
   "outputs": [
    {
     "name": "stdout",
     "output_type": "stream",
     "text": [
      "Test estadístico para la etapa \"OffersScreenAppear\" - A1 & A2 vs B:\n",
      "- Estadístico Z: 0.033\n",
      "- Valor p: 0.487\n",
      "❌ No es posible rechazar la hipótesis nula, no exite diferencia significativa en tasas de conversión.\n"
     ]
    }
   ],
   "source": [
    "print(f'Test estadístico para la etapa \"{funnel_A1_A2['event_name'][1]}\" - A1 & A2 vs B:')\n",
    "ztest_AB_alpha_corr(funnel_A1_A2, funnel_B, 1)"
   ]
  },
  {
   "cell_type": "code",
   "execution_count": 55,
   "id": "9269911b",
   "metadata": {},
   "outputs": [
    {
     "name": "stdout",
     "output_type": "stream",
     "text": [
      "Test estadístico para la etapa \"CartScreenAppear\" - A1 & A2 vs B:\n",
      "- Estadístico Z: 0.694\n",
      "- Valor p: 0.244\n",
      "❌ No es posible rechazar la hipótesis nula, no exite diferencia significativa en tasas de conversión.\n"
     ]
    }
   ],
   "source": [
    "print(f'Test estadístico para la etapa \"{funnel_A1_A2['event_name'][2]}\" - A1 & A2 vs B:')\n",
    "ztest_AB_alpha_corr(funnel_A1_A2, funnel_B, 2)"
   ]
  },
  {
   "cell_type": "code",
   "execution_count": 56,
   "id": "85ae7924",
   "metadata": {},
   "outputs": [
    {
     "name": "stdout",
     "output_type": "stream",
     "text": [
      "Test estadístico para la etapa \"PaymentScreenSuccessful\" - A1 & A2 vs B:\n",
      "- Estadístico Z: -1.761\n",
      "- Valor p: 0.039\n",
      "❌ No es posible rechazar la hipótesis nula, no exite diferencia significativa en tasas de conversión.\n"
     ]
    }
   ],
   "source": [
    "print(f'Test estadístico para la etapa \"{funnel_A1_A2['event_name'][3]}\" - A1 & A2 vs B:')\n",
    "ztest_AB_alpha_corr(funnel_A1_A2, funnel_B, 3)"
   ]
  },
  {
   "cell_type": "markdown",
   "id": "0866ffc7",
   "metadata": {},
   "source": [
    "**Resultados de A/B test:**\n",
    "\n",
    "🧠 Después de realizadas las pruebas de hipótesis con el nivel de significancia ajustado, se concluye que **no existen diferencias significativas en las tasas de conversión entre los grupos A (control) y B (prueba).**"
   ]
  }
 ],
 "metadata": {
  "kernelspec": {
   "display_name": "Python 3",
   "language": "python",
   "name": "python3"
  },
  "language_info": {
   "codemirror_mode": {
    "name": "ipython",
    "version": 3
   },
   "file_extension": ".py",
   "mimetype": "text/x-python",
   "name": "python",
   "nbconvert_exporter": "python",
   "pygments_lexer": "ipython3",
   "version": "3.13.3"
  }
 },
 "nbformat": 4,
 "nbformat_minor": 5
}
